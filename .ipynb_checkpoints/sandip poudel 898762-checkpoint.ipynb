{
 "cells": [
  {
   "cell_type": "markdown",
   "id": "bb9f7229",
   "metadata": {},
   "source": [
    "Question 1: Print First 10 natural numbers using while loop."
   ]
  },
  {
   "cell_type": "code",
   "execution_count": 1,
   "id": "e153a46f",
   "metadata": {},
   "outputs": [
    {
     "name": "stdout",
     "output_type": "stream",
     "text": [
      "1\n",
      "2\n",
      "3\n",
      "4\n",
      "5\n",
      "6\n",
      "7\n",
      "8\n",
      "9\n",
      "10\n"
     ]
    }
   ],
   "source": [
    "count = 1\n",
    "while count <= 10:\n",
    "    print(count)\n",
    "    count += 1"
   ]
  },
  {
   "cell_type": "markdown",
   "id": "710abb10",
   "metadata": {},
   "source": [
    "Question 2: Print the following pattern"
   ]
  },
  {
   "cell_type": "code",
   "execution_count": 2,
   "id": "48b62847",
   "metadata": {},
   "outputs": [
    {
     "name": "stdout",
     "output_type": "stream",
     "text": [
      "1 \n",
      "1 2 \n",
      "1 2 3 \n",
      "1 2 3 4 \n",
      "1 2 3 4 5 \n"
     ]
    }
   ],
   "source": [
    "rows = 5\n",
    "\n",
    "for i in range(1, rows + 1):\n",
    "    for j in range(1, i + 1):\n",
    "        print(j, end=\" \")\n",
    "    print()"
   ]
  },
  {
   "cell_type": "markdown",
   "id": "68d94aad",
   "metadata": {},
   "source": [
    "Question 3: Accept number from user and calculate the sum of all number between 1 and given\n",
    "number.\n",
    "Expected output:\n",
    "For example, user given 10 so the output should be 55 \n"
   ]
  },
  {
   "cell_type": "code",
   "execution_count": 4,
   "id": "1581ee49",
   "metadata": {},
   "outputs": [
    {
     "name": "stdout",
     "output_type": "stream",
     "text": [
      "Enter a number: 10\n",
      "The sum of all numbers between 1 and 10 is: 55\n"
     ]
    }
   ],
   "source": [
    "num = int(input(\"Enter a number: \"))\n",
    "sum = 0\n",
    "\n",
    "for i in range(1, num + 1):\n",
    "    sum += i\n",
    "\n",
    "print(\"The sum of all numbers between 1 and\", num, \"is:\", sum)\n"
   ]
  },
  {
   "cell_type": "markdown",
   "id": "0eed4f2b",
   "metadata": {},
   "source": [
    "Question 4: Print multiplication table of given number.\n",
    "Expected output:\n",
    "For example, num = 2 so the output should be"
   ]
  },
  {
   "cell_type": "code",
   "execution_count": 5,
   "id": "69a9126e",
   "metadata": {},
   "outputs": [
    {
     "name": "stdout",
     "output_type": "stream",
     "text": [
      "Enter a number: 2\n",
      "Multiplication Table of 2\n",
      "2 x 1 = 2\n",
      "2 x 2 = 4\n",
      "2 x 3 = 6\n",
      "2 x 4 = 8\n",
      "2 x 5 = 10\n",
      "2 x 6 = 12\n",
      "2 x 7 = 14\n",
      "2 x 8 = 16\n",
      "2 x 9 = 18\n",
      "2 x 10 = 20\n"
     ]
    }
   ],
   "source": [
    "num = int(input(\"Enter a number: \"))\n",
    "\n",
    "print(\"Multiplication Table of\", num)\n",
    "for i in range(1, 11):\n",
    "    print(num, \"x\", i, \"=\", num * i)"
   ]
  },
  {
   "cell_type": "markdown",
   "id": "06c4cd72",
   "metadata": {},
   "source": [
    "Question 5: Given a list iterate it and display numbers which are divisible by 5 and if you find number\n",
    "greater than 150 stop the loop iteration.\n",
    "list1 = [12, 15, 32, 42, 55, 75, 122, 132, 150, 180, 200]\n"
   ]
  },
  {
   "cell_type": "code",
   "execution_count": 6,
   "id": "ac3deda0",
   "metadata": {},
   "outputs": [
    {
     "name": "stdout",
     "output_type": "stream",
     "text": [
      "15\n",
      "55\n",
      "75\n",
      "150\n"
     ]
    }
   ],
   "source": [
    "list1 = [12, 15, 32, 42, 55, 75, 122, 132, 150, 180, 200]\n",
    "\n",
    "for num in list1:\n",
    "    if num > 150:\n",
    "        break\n",
    "    if num % 5 == 0:\n",
    "        print(num)"
   ]
  },
  {
   "cell_type": "markdown",
   "id": "3b2e2166",
   "metadata": {},
   "source": [
    "Question 6: Given a number count the total number of digits in a number.\n",
    "Expected output:\n",
    "For example, the number is 75869, so the output should be 5"
   ]
  },
  {
   "cell_type": "code",
   "execution_count": 7,
   "id": "69afebc2",
   "metadata": {},
   "outputs": [
    {
     "name": "stdout",
     "output_type": "stream",
     "text": [
      "Enter a number: 75869\n",
      "The total number of digits in the number is: 5\n"
     ]
    }
   ],
   "source": [
    "num = int(input(\"Enter a number: \"))\n",
    "\n",
    "count = 0\n",
    "while num != 0:\n",
    "    num //= 10\n",
    "    count += 1\n",
    "\n",
    "print(\"The total number of digits in the number is:\", count)"
   ]
  },
  {
   "cell_type": "markdown",
   "id": "d34acb14",
   "metadata": {},
   "source": [
    "Print the following pattern using for loop."
   ]
  },
  {
   "cell_type": "code",
   "execution_count": 8,
   "id": "15917cee",
   "metadata": {},
   "outputs": [
    {
     "name": "stdout",
     "output_type": "stream",
     "text": [
      "5 4 3 2 1 \n",
      "4 3 2 1 \n",
      "3 2 1 \n",
      "2 1 \n",
      "1 \n"
     ]
    }
   ],
   "source": [
    "rows = 5\n",
    "\n",
    "for i in range(rows, 0, -1):\n",
    "    for j in range(i, 0, -1):\n",
    "        print(j, end=\" \")\n",
    "    print()"
   ]
  },
  {
   "cell_type": "markdown",
   "id": "76ef54b6",
   "metadata": {},
   "source": [
    "Question 8: Reverse the following list using for loop. list\n",
    "= [10, 20, 30, 40, 50]"
   ]
  },
  {
   "cell_type": "code",
   "execution_count": 11,
   "id": "03ceee35",
   "metadata": {},
   "outputs": [
    {
     "name": "stdout",
     "output_type": "stream",
     "text": [
      "Original list: [10, 20, 30, 40, 50]\n",
      "Reversed list: [50, 40, 30, 20, 10]\n"
     ]
    }
   ],
   "source": [
    "list1 = [10, 20, 30, 40, 50]\n",
    "\n",
    "reversed_list = []\n",
    "for i in range(len(list1)-1, -1, -1):\n",
    "    reversed_list.append(list1[i])\n",
    "\n",
    "print(\"Original list:\", list1)\n",
    "print(\"Reversed list:\", reversed_list)"
   ]
  },
  {
   "cell_type": "markdown",
   "id": "17802244",
   "metadata": {},
   "source": [
    ": Display a message “Done” after successful execution of for loop"
   ]
  },
  {
   "cell_type": "code",
   "execution_count": 13,
   "id": "77262ac1",
   "metadata": {},
   "outputs": [
    {
     "name": "stdout",
     "output_type": "stream",
     "text": [
      "0\n",
      "1\n",
      "2\n",
      "3\n",
      "4\n",
      "5\n",
      "6\n",
      "7\n",
      "8\n",
      "Done\n"
     ]
    }
   ],
   "source": [
    "for i in range(9):\n",
    "    print(i)\n",
    "print(\"Done\")"
   ]
  },
  {
   "cell_type": "markdown",
   "id": "6a98f049",
   "metadata": {},
   "source": [
    "Question 10: Display Fibonacci series up to 10 terms.\n",
    "Fibonacci sequence: Each number is the sum of the two preceding ones, starting from 0 and 1. "
   ]
  },
  {
   "cell_type": "code",
   "execution_count": 14,
   "id": "e4fe1de6",
   "metadata": {},
   "outputs": [
    {
     "name": "stdout",
     "output_type": "stream",
     "text": [
      "Fibonacci Series:\n",
      "0\n",
      "1\n",
      "1\n",
      "2\n",
      "3\n",
      "5\n",
      "8\n",
      "13\n",
      "21\n",
      "34\n"
     ]
    }
   ],
   "source": [
    "num_terms = 10\n",
    "\n",
    "fibonacci_series = [0, 1]\n",
    "\n",
    "for i in range(2, num_terms):\n",
    "    next_term = fibonacci_series[i-1] + fibonacci_series[i-2]\n",
    "    fibonacci_series.append(next_term)\n",
    "\n",
    "print(\"Fibonacci Series:\")\n",
    "for term in fibonacci_series:\n",
    "    print(term)"
   ]
  },
  {
   "cell_type": "code",
   "execution_count": null,
   "id": "b2c7601c",
   "metadata": {},
   "outputs": [],
   "source": []
  },
  {
   "cell_type": "markdown",
   "id": "531acc50",
   "metadata": {},
   "source": [
    "Question 11: Write a loop to find the factorial of any number.\n",
    "Note: The factorial (symbol: !) means to multiply all whole numbers from our chosen number down to 1.\n"
   ]
  },
  {
   "cell_type": "code",
   "execution_count": 15,
   "id": "3df8b375",
   "metadata": {},
   "outputs": [
    {
     "name": "stdout",
     "output_type": "stream",
     "text": [
      "Enter a number: 5\n",
      "The factorial of 5 is: 120\n"
     ]
    }
   ],
   "source": [
    "num = int(input(\"Enter a number: \"))\n",
    "\n",
    "factorial = 1\n",
    "\n",
    "for i in range(1, num + 1):\n",
    "    factorial *= i\n",
    "\n",
    "print(\"The factorial of\", num, \"is:\", factorial)"
   ]
  },
  {
   "cell_type": "markdown",
   "id": "dc8c8ce8",
   "metadata": {},
   "source": [
    "Question 12: Python program to display all the prime numbers within a range.\n",
    "Note: A Prime Number is a whole number that cannot be made by multiplying other whole numbers.\n"
   ]
  },
  {
   "cell_type": "code",
   "execution_count": 17,
   "id": "6df04f89",
   "metadata": {},
   "outputs": [
    {
     "name": "stdout",
     "output_type": "stream",
     "text": [
      "Enter the starting number: 25\n",
      "Enter the ending number: 40\n",
      "Prime numbers between 25 and 40 are:\n",
      "29\n",
      "31\n",
      "37\n"
     ]
    }
   ],
   "source": [
    "start = int(input(\"Enter the starting number: \"))\n",
    "end = int(input(\"Enter the ending number: \"))\n",
    "\n",
    "print(\"Prime numbers between\", start, \"and\", end, \"are:\")\n",
    "\n",
    "for num in range(start, end + 1):\n",
    "    if num > 1:\n",
    "        for i in range(2, num):\n",
    "            if (num % i) == 0:\n",
    "                break\n",
    "        else:\n",
    "            print(num)"
   ]
  },
  {
   "cell_type": "code",
   "execution_count": null,
   "id": "c2fd3610",
   "metadata": {},
   "outputs": [],
   "source": []
  }
 ],
 "metadata": {
  "kernelspec": {
   "display_name": "Python 3 (ipykernel)",
   "language": "python",
   "name": "python3"
  },
  "language_info": {
   "codemirror_mode": {
    "name": "ipython",
    "version": 3
   },
   "file_extension": ".py",
   "mimetype": "text/x-python",
   "name": "python",
   "nbconvert_exporter": "python",
   "pygments_lexer": "ipython3",
   "version": "3.10.5"
  }
 },
 "nbformat": 4,
 "nbformat_minor": 5
}
