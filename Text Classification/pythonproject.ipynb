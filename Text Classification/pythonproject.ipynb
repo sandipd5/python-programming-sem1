{
 "cells": [
  {
   "cell_type": "code",
   "execution_count": 62,
   "id": "a9f72c94",
   "metadata": {},
   "outputs": [],
   "source": [
    "import pandas as pd\n",
    "import numpy as np\n",
    "from sklearn.preprocessing import LabelEncoder\n",
    "from sklearn.feature_extraction.text import CountVectorizer, TfidfVectorizer\n",
    "\n"
   ]
  },
  {
   "cell_type": "code",
   "execution_count": 63,
   "id": "38cf918d",
   "metadata": {},
   "outputs": [],
   "source": [
    "with open(\"//Users//urvashi.//Downloads//intents.json\") as f:\n",
    "    content = f.readlines()\n",
    "data_intents = [eval(c) for c in content]\n",
    "data_intents = pd.DataFrame(data_intents)\n"
   ]
  },
  {
   "cell_type": "code",
   "execution_count": 64,
   "id": "88ad128b",
   "metadata": {},
   "outputs": [
    {
     "data": {
      "text/html": [
       "<div>\n",
       "<style scoped>\n",
       "    .dataframe tbody tr th:only-of-type {\n",
       "        vertical-align: middle;\n",
       "    }\n",
       "\n",
       "    .dataframe tbody tr th {\n",
       "        vertical-align: top;\n",
       "    }\n",
       "\n",
       "    .dataframe thead th {\n",
       "        text-align: right;\n",
       "    }\n",
       "</style>\n",
       "<table border=\"1\" class=\"dataframe\">\n",
       "  <thead>\n",
       "    <tr style=\"text-align: right;\">\n",
       "      <th></th>\n",
       "      <th>id</th>\n",
       "      <th>user_id</th>\n",
       "      <th>tags</th>\n",
       "      <th>intents</th>\n",
       "      <th>answer</th>\n",
       "    </tr>\n",
       "  </thead>\n",
       "  <tbody>\n",
       "    <tr>\n",
       "      <th>0</th>\n",
       "      <td>7544</td>\n",
       "      <td>4450</td>\n",
       "      <td>[pause, timescale]</td>\n",
       "      <td>[How can I pause my game?, What is the best wa...</td>\n",
       "      <td>In the Editor, you can just click the pause bu...</td>\n",
       "    </tr>\n",
       "    <tr>\n",
       "      <th>1</th>\n",
       "      <td>7561</td>\n",
       "      <td>3146</td>\n",
       "      <td>[iphone, upload, appstore]</td>\n",
       "      <td>[How do I upload my iPhone app to the app stor...</td>\n",
       "      <td>Log into Apple's developer portal and click th...</td>\n",
       "    </tr>\n",
       "    <tr>\n",
       "      <th>2</th>\n",
       "      <td>7572</td>\n",
       "      <td>142</td>\n",
       "      <td>[debug, debugger]</td>\n",
       "      <td>[Is there a way to attach a debugger to the co...</td>\n",
       "      <td>You can attach the debugger to the editor proc...</td>\n",
       "    </tr>\n",
       "    <tr>\n",
       "      <th>3</th>\n",
       "      <td>7599</td>\n",
       "      <td>1213</td>\n",
       "      <td>[editor, editor-launch-fail, editor-crash]</td>\n",
       "      <td>[Why project indefinitely loads when opened?, ...</td>\n",
       "      <td>To attempt to solve the editor crash, create a...</td>\n",
       "    </tr>\n",
       "    <tr>\n",
       "      <th>4</th>\n",
       "      <td>7626</td>\n",
       "      <td>2218</td>\n",
       "      <td>[animation, import, maya]</td>\n",
       "      <td>[How can I make animations snap to a frame in ...</td>\n",
       "      <td>Set the time of AnimationState of the relevant...</td>\n",
       "    </tr>\n",
       "  </tbody>\n",
       "</table>\n",
       "</div>"
      ],
      "text/plain": [
       "     id  user_id                                        tags  \\\n",
       "0  7544     4450                          [pause, timescale]   \n",
       "1  7561     3146                  [iphone, upload, appstore]   \n",
       "2  7572      142                           [debug, debugger]   \n",
       "3  7599     1213  [editor, editor-launch-fail, editor-crash]   \n",
       "4  7626     2218                   [animation, import, maya]   \n",
       "\n",
       "                                             intents  \\\n",
       "0  [How can I pause my game?, What is the best wa...   \n",
       "1  [How do I upload my iPhone app to the app stor...   \n",
       "2  [Is there a way to attach a debugger to the co...   \n",
       "3  [Why project indefinitely loads when opened?, ...   \n",
       "4  [How can I make animations snap to a frame in ...   \n",
       "\n",
       "                                              answer  \n",
       "0  In the Editor, you can just click the pause bu...  \n",
       "1  Log into Apple's developer portal and click th...  \n",
       "2  You can attach the debugger to the editor proc...  \n",
       "3  To attempt to solve the editor crash, create a...  \n",
       "4  Set the time of AnimationState of the relevant...  "
      ]
     },
     "execution_count": 64,
     "metadata": {},
     "output_type": "execute_result"
    }
   ],
   "source": [
    "data_intents.head()"
   ]
  },
  {
   "cell_type": "code",
   "execution_count": 65,
   "id": "707beb8c",
   "metadata": {},
   "outputs": [],
   "source": [
    "with open(\"//Users//urvashi.//Downloads//raw.json\") as r:\n",
    "    content = r.readlines()\n",
    "data_raw = [eval(d) for d in content]\n",
    "data_raw = pd.DataFrame(data_raw)"
   ]
  },
  {
   "cell_type": "code",
   "execution_count": 66,
   "id": "7213e3cb",
   "metadata": {},
   "outputs": [
    {
     "data": {
      "text/html": [
       "<div>\n",
       "<style scoped>\n",
       "    .dataframe tbody tr th:only-of-type {\n",
       "        vertical-align: middle;\n",
       "    }\n",
       "\n",
       "    .dataframe tbody tr th {\n",
       "        vertical-align: top;\n",
       "    }\n",
       "\n",
       "    .dataframe thead th {\n",
       "        text-align: right;\n",
       "    }\n",
       "</style>\n",
       "<table border=\"1\" class=\"dataframe\">\n",
       "  <thead>\n",
       "    <tr style=\"text-align: right;\">\n",
       "      <th></th>\n",
       "      <th>id</th>\n",
       "      <th>user_id</th>\n",
       "      <th>tags</th>\n",
       "      <th>post_date</th>\n",
       "      <th>score</th>\n",
       "      <th>title</th>\n",
       "      <th>question</th>\n",
       "      <th>answer</th>\n",
       "    </tr>\n",
       "  </thead>\n",
       "  <tbody>\n",
       "    <tr>\n",
       "      <th>0</th>\n",
       "      <td>11458</td>\n",
       "      <td>44417</td>\n",
       "      <td>[timer]</td>\n",
       "      <td>2019-03-23</td>\n",
       "      <td>22.0</td>\n",
       "      <td>How to make a timer in the game</td>\n",
       "      <td>How to make a timer in the game? What I have s...</td>\n",
       "      <td>This should get you started: `private var star...</td>\n",
       "    </tr>\n",
       "    <tr>\n",
       "      <th>1</th>\n",
       "      <td>11858</td>\n",
       "      <td>2597</td>\n",
       "      <td>[editor, instantiate, editor-scripting, persist]</td>\n",
       "      <td>2019-04-13</td>\n",
       "      <td>13.0</td>\n",
       "      <td>Programatically instantiating GameObjects to t...</td>\n",
       "      <td>Hello, I am working on a tile based tactics ga...</td>\n",
       "      <td>The syntax to create gameobjects is the same a...</td>\n",
       "    </tr>\n",
       "    <tr>\n",
       "      <th>2</th>\n",
       "      <td>13289</td>\n",
       "      <td>4333</td>\n",
       "      <td>[rigidbody, cube, rotatearound, roll]</td>\n",
       "      <td>2021-07-10</td>\n",
       "      <td>0.0</td>\n",
       "      <td>Rolling Cube with Rigidbody?</td>\n",
       "      <td>Hi All, New to Unity3D, a few hours in, so bea...</td>\n",
       "      <td>Here's a short Youtube video that covers exact...</td>\n",
       "    </tr>\n",
       "    <tr>\n",
       "      <th>3</th>\n",
       "      <td>27760</td>\n",
       "      <td>123</td>\n",
       "      <td>[input, unityremote]</td>\n",
       "      <td>2012-01-17</td>\n",
       "      <td>1.0</td>\n",
       "      <td>Unity Remote not sending input from iPhone or ...</td>\n",
       "      <td>If I Build and Run to my iPhone4, all the inpu...</td>\n",
       "      <td>Stupid question, but is your mac/phone both co...</td>\n",
       "    </tr>\n",
       "    <tr>\n",
       "      <th>4</th>\n",
       "      <td>48510</td>\n",
       "      <td>5822</td>\n",
       "      <td>[instantiate, prefab]</td>\n",
       "      <td>2011-07-13</td>\n",
       "      <td>0.0</td>\n",
       "      <td>Prefab, Instantiate, Transfer Speed</td>\n",
       "      <td>prefab, Instantiate, transfer speed??? How do ...</td>\n",
       "      <td>Use Prefab in your Game Here is the tutorial f...</td>\n",
       "    </tr>\n",
       "  </tbody>\n",
       "</table>\n",
       "</div>"
      ],
      "text/plain": [
       "      id  user_id                                              tags  \\\n",
       "0  11458    44417                                           [timer]   \n",
       "1  11858     2597  [editor, instantiate, editor-scripting, persist]   \n",
       "2  13289     4333             [rigidbody, cube, rotatearound, roll]   \n",
       "3  27760      123                              [input, unityremote]   \n",
       "4  48510     5822                             [instantiate, prefab]   \n",
       "\n",
       "    post_date  score                                              title  \\\n",
       "0  2019-03-23   22.0                    How to make a timer in the game   \n",
       "1  2019-04-13   13.0  Programatically instantiating GameObjects to t...   \n",
       "2  2021-07-10    0.0                       Rolling Cube with Rigidbody?   \n",
       "3  2012-01-17    1.0  Unity Remote not sending input from iPhone or ...   \n",
       "4  2011-07-13    0.0                Prefab, Instantiate, Transfer Speed   \n",
       "\n",
       "                                            question  \\\n",
       "0  How to make a timer in the game? What I have s...   \n",
       "1  Hello, I am working on a tile based tactics ga...   \n",
       "2  Hi All, New to Unity3D, a few hours in, so bea...   \n",
       "3  If I Build and Run to my iPhone4, all the inpu...   \n",
       "4  prefab, Instantiate, transfer speed??? How do ...   \n",
       "\n",
       "                                              answer  \n",
       "0  This should get you started: `private var star...  \n",
       "1  The syntax to create gameobjects is the same a...  \n",
       "2  Here's a short Youtube video that covers exact...  \n",
       "3  Stupid question, but is your mac/phone both co...  \n",
       "4  Use Prefab in your Game Here is the tutorial f...  "
      ]
     },
     "execution_count": 66,
     "metadata": {},
     "output_type": "execute_result"
    }
   ],
   "source": [
    "data_raw.head()"
   ]
  },
  {
   "cell_type": "code",
   "execution_count": 67,
   "id": "8b288e3b",
   "metadata": {},
   "outputs": [
    {
     "data": {
      "text/html": [
       "<div>\n",
       "<style scoped>\n",
       "    .dataframe tbody tr th:only-of-type {\n",
       "        vertical-align: middle;\n",
       "    }\n",
       "\n",
       "    .dataframe tbody tr th {\n",
       "        vertical-align: top;\n",
       "    }\n",
       "\n",
       "    .dataframe thead th {\n",
       "        text-align: right;\n",
       "    }\n",
       "</style>\n",
       "<table border=\"1\" class=\"dataframe\">\n",
       "  <thead>\n",
       "    <tr style=\"text-align: right;\">\n",
       "      <th></th>\n",
       "      <th>id</th>\n",
       "      <th>user_id</th>\n",
       "      <th>tags</th>\n",
       "      <th>intents</th>\n",
       "      <th>answer</th>\n",
       "    </tr>\n",
       "  </thead>\n",
       "  <tbody>\n",
       "    <tr>\n",
       "      <th>0</th>\n",
       "      <td>7544</td>\n",
       "      <td>4450</td>\n",
       "      <td>[pause, timescale]</td>\n",
       "      <td>[How can I pause my game?, What is the best wa...</td>\n",
       "      <td>In the Editor, you can just click the pause bu...</td>\n",
       "    </tr>\n",
       "    <tr>\n",
       "      <th>1</th>\n",
       "      <td>7561</td>\n",
       "      <td>3146</td>\n",
       "      <td>[iphone, upload, appstore]</td>\n",
       "      <td>[How do I upload my iPhone app to the app stor...</td>\n",
       "      <td>Log into Apple's developer portal and click th...</td>\n",
       "    </tr>\n",
       "    <tr>\n",
       "      <th>2</th>\n",
       "      <td>7572</td>\n",
       "      <td>142</td>\n",
       "      <td>[debug, debugger]</td>\n",
       "      <td>[Is there a way to attach a debugger to the co...</td>\n",
       "      <td>You can attach the debugger to the editor proc...</td>\n",
       "    </tr>\n",
       "    <tr>\n",
       "      <th>3</th>\n",
       "      <td>7599</td>\n",
       "      <td>1213</td>\n",
       "      <td>[editor, editor-launch-fail, editor-crash]</td>\n",
       "      <td>[Why project indefinitely loads when opened?, ...</td>\n",
       "      <td>To attempt to solve the editor crash, create a...</td>\n",
       "    </tr>\n",
       "    <tr>\n",
       "      <th>4</th>\n",
       "      <td>7626</td>\n",
       "      <td>2218</td>\n",
       "      <td>[animation, import, maya]</td>\n",
       "      <td>[How can I make animations snap to a frame in ...</td>\n",
       "      <td>Set the time of AnimationState of the relevant...</td>\n",
       "    </tr>\n",
       "  </tbody>\n",
       "</table>\n",
       "</div>"
      ],
      "text/plain": [
       "     id  user_id                                        tags  \\\n",
       "0  7544     4450                          [pause, timescale]   \n",
       "1  7561     3146                  [iphone, upload, appstore]   \n",
       "2  7572      142                           [debug, debugger]   \n",
       "3  7599     1213  [editor, editor-launch-fail, editor-crash]   \n",
       "4  7626     2218                   [animation, import, maya]   \n",
       "\n",
       "                                             intents  \\\n",
       "0  [How can I pause my game?, What is the best wa...   \n",
       "1  [How do I upload my iPhone app to the app stor...   \n",
       "2  [Is there a way to attach a debugger to the co...   \n",
       "3  [Why project indefinitely loads when opened?, ...   \n",
       "4  [How can I make animations snap to a frame in ...   \n",
       "\n",
       "                                              answer  \n",
       "0  In the Editor, you can just click the pause bu...  \n",
       "1  Log into Apple's developer portal and click th...  \n",
       "2  You can attach the debugger to the editor proc...  \n",
       "3  To attempt to solve the editor crash, create a...  \n",
       "4  Set the time of AnimationState of the relevant...  "
      ]
     },
     "execution_count": 67,
     "metadata": {},
     "output_type": "execute_result"
    }
   ],
   "source": [
    "data_intents.head()"
   ]
  },
  {
   "cell_type": "code",
   "execution_count": 68,
   "id": "853df7fe",
   "metadata": {},
   "outputs": [
    {
     "data": {
      "text/plain": [
       "id          int64\n",
       "user_id     int64\n",
       "tags       object\n",
       "intents    object\n",
       "answer     object\n",
       "dtype: object"
      ]
     },
     "execution_count": 68,
     "metadata": {},
     "output_type": "execute_result"
    }
   ],
   "source": [
    "data_intents.dtypes"
   ]
  },
  {
   "cell_type": "code",
   "execution_count": 69,
   "id": "331d11a4",
   "metadata": {},
   "outputs": [
    {
     "data": {
      "text/plain": [
       "id         0\n",
       "user_id    0\n",
       "tags       0\n",
       "intents    0\n",
       "answer     0\n",
       "dtype: int64"
      ]
     },
     "execution_count": 69,
     "metadata": {},
     "output_type": "execute_result"
    }
   ],
   "source": [
    "data_intents.isnull().sum()\n"
   ]
  },
  {
   "cell_type": "code",
   "execution_count": 70,
   "id": "e36ed28c",
   "metadata": {
    "scrolled": true
   },
   "outputs": [
    {
     "data": {
      "text/plain": [
       "id             int64\n",
       "user_id        int64\n",
       "tags          object\n",
       "post_date     object\n",
       "score        float64\n",
       "title         object\n",
       "question      object\n",
       "answer        object\n",
       "dtype: object"
      ]
     },
     "execution_count": 70,
     "metadata": {},
     "output_type": "execute_result"
    }
   ],
   "source": [
    "data_raw.dtypes"
   ]
  },
  {
   "cell_type": "code",
   "execution_count": 71,
   "id": "55d6f602",
   "metadata": {},
   "outputs": [
    {
     "data": {
      "text/plain": [
       "id           0\n",
       "user_id      0\n",
       "tags         0\n",
       "post_date    0\n",
       "score        4\n",
       "title        0\n",
       "question     0\n",
       "answer       4\n",
       "dtype: int64"
      ]
     },
     "execution_count": 71,
     "metadata": {},
     "output_type": "execute_result"
    }
   ],
   "source": [
    "data_raw.isnull().sum()"
   ]
  },
  {
   "cell_type": "code",
   "execution_count": 72,
   "id": "ec32e85f",
   "metadata": {},
   "outputs": [],
   "source": [
    "data_raw.score =  data_raw.score.fillna(\"unknown\")\n",
    "data_raw.answer =  data_raw.answer.fillna(\"unknown\")"
   ]
  },
  {
   "cell_type": "code",
   "execution_count": 73,
   "id": "95368297",
   "metadata": {},
   "outputs": [
    {
     "data": {
      "text/plain": [
       "id           0\n",
       "user_id      0\n",
       "tags         0\n",
       "post_date    0\n",
       "score        0\n",
       "title        0\n",
       "question     0\n",
       "answer       0\n",
       "dtype: int64"
      ]
     },
     "execution_count": 73,
     "metadata": {},
     "output_type": "execute_result"
    }
   ],
   "source": [
    "data_raw.isnull().sum()"
   ]
  },
  {
   "cell_type": "code",
   "execution_count": 76,
   "id": "b14a6348",
   "metadata": {},
   "outputs": [],
   "source": [
    "# Create a CountVectorizer object\n",
    "# vectorizer = CountVectorizer()\n",
    "\n",
    "# Alternatively, create a TfidfVectorizer object (Term Frequency-Inverse Document Frequency)\n",
    "vectorizer = TfidfVectorizer()\n",
    "# Fit and transform the sentences\n",
    "numerical_data_intents = vectorizer.fit_transform(data_intents)"
   ]
  },
  {
   "cell_type": "code",
   "execution_count": 81,
   "id": "c450d975",
   "metadata": {},
   "outputs": [
    {
     "name": "stdout",
     "output_type": "stream",
     "text": [
      "[[0. 1. 0. 0. 0.]\n",
      " [0. 0. 0. 0. 1.]\n",
      " [0. 0. 0. 1. 0.]\n",
      " [0. 0. 1. 0. 0.]\n",
      " [1. 0. 0. 0. 0.]]\n"
     ]
    }
   ],
   "source": [
    "print(numerical_data_intents.toarray())"
   ]
  },
  {
   "cell_type": "code",
   "execution_count": 78,
   "id": "5bb29d1f",
   "metadata": {},
   "outputs": [],
   "source": [
    "numerical_data_raw = vectorizer.fit_transform(data_raw)"
   ]
  },
  {
   "cell_type": "code",
   "execution_count": 80,
   "id": "7562e749",
   "metadata": {},
   "outputs": [
    {
     "name": "stdout",
     "output_type": "stream",
     "text": [
      "[[0. 1. 0. 0. 0. 0. 0. 0.]\n",
      " [0. 0. 0. 0. 0. 0. 0. 1.]\n",
      " [0. 0. 0. 0. 0. 1. 0. 0.]\n",
      " [0. 0. 1. 0. 0. 0. 0. 0.]\n",
      " [0. 0. 0. 0. 1. 0. 0. 0.]\n",
      " [0. 0. 0. 0. 0. 0. 1. 0.]\n",
      " [0. 0. 0. 1. 0. 0. 0. 0.]\n",
      " [1. 0. 0. 0. 0. 0. 0. 0.]]\n"
     ]
    }
   ],
   "source": [
    "print(numerical_data_raw.toarray())"
   ]
  },
  {
   "cell_type": "code",
   "execution_count": null,
   "id": "01604940",
   "metadata": {},
   "outputs": [],
   "source": []
  },
  {
   "cell_type": "code",
   "execution_count": null,
   "id": "e95fb502",
   "metadata": {},
   "outputs": [],
   "source": []
  }
 ],
 "metadata": {
  "kernelspec": {
   "display_name": "Python 3 (ipykernel)",
   "language": "python",
   "name": "python3"
  },
  "language_info": {
   "codemirror_mode": {
    "name": "ipython",
    "version": 3
   },
   "file_extension": ".py",
   "mimetype": "text/x-python",
   "name": "python",
   "nbconvert_exporter": "python",
   "pygments_lexer": "ipython3",
   "version": "3.10.5"
  }
 },
 "nbformat": 4,
 "nbformat_minor": 5
}
