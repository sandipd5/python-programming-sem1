{
 "cells": [
  {
   "cell_type": "code",
   "execution_count": 29,
   "id": "7105a72c",
   "metadata": {},
   "outputs": [],
   "source": [
    "import pandas as pd\n",
    "import numpy as np\n",
    "import json\n",
    "from sklearn.feature_extraction.text import TfidfVectorizer\n",
    "from sklearn.metrics.pairwise import cosine_similarity\n",
    "from sklearn.utils import shuffle\n",
    "from sklearn.model_selection import train_test_split\n",
    "from sklearn.naive_bayes import MultinomialNB\n",
    "from sklearn.preprocessing import MultiLabelBinarizer\n",
    "from sklearn.metrics import accuracy_score, classification_report\n",
    "import string\n",
    "import nltk\n",
    "from nltk.corpus import stopwords\n",
    "from nltk.stem import PorterStemmer\n",
    "from nltk.tokenize import word_tokenize\n",
    "from nltk.corpus import wordnet\n",
    "from nltk.stem import WordNetLemmatizer\n"
   ]
  },
  {
   "cell_type": "code",
   "execution_count": 2,
   "id": "4cfcbb12",
   "metadata": {},
   "outputs": [],
   "source": [
    "# Step 1: Load the First JSON file\n",
    "\n",
    "data_list = []\n",
    "with open('intents.json', 'r') as f:\n",
    "    for line in f:\n",
    "        data = json.loads(line)\n",
    "        data_list.append(data)\n",
    "    \n",
    "df1 = pd.DataFrame(data_list)    \n",
    "df1.to_csv('output_intents.csv', index=False)"
   ]
  },
  {
   "cell_type": "code",
   "execution_count": 3,
   "id": "5068fd16",
   "metadata": {},
   "outputs": [],
   "source": [
    "# Load the Second JSON file\n",
    "\n",
    "data_list = []\n",
    "with open('raw.json', 'r') as f:\n",
    "    for line in f:\n",
    "        data = json.loads(line)\n",
    "        data_list.append(data)\n",
    "    \n",
    "df2 = pd.DataFrame(data_list)\n",
    "df2.to_csv('output_raw.csv', index=False)"
   ]
  },
  {
   "cell_type": "code",
   "execution_count": 4,
   "id": "43ac6010",
   "metadata": {},
   "outputs": [
    {
     "data": {
      "text/html": [
       "<div>\n",
       "<style scoped>\n",
       "    .dataframe tbody tr th:only-of-type {\n",
       "        vertical-align: middle;\n",
       "    }\n",
       "\n",
       "    .dataframe tbody tr th {\n",
       "        vertical-align: top;\n",
       "    }\n",
       "\n",
       "    .dataframe thead th {\n",
       "        text-align: right;\n",
       "    }\n",
       "</style>\n",
       "<table border=\"1\" class=\"dataframe\">\n",
       "  <thead>\n",
       "    <tr style=\"text-align: right;\">\n",
       "      <th></th>\n",
       "      <th>id</th>\n",
       "      <th>user_id</th>\n",
       "      <th>tags</th>\n",
       "      <th>intents</th>\n",
       "      <th>answer</th>\n",
       "    </tr>\n",
       "  </thead>\n",
       "  <tbody>\n",
       "    <tr>\n",
       "      <th>0</th>\n",
       "      <td>7544</td>\n",
       "      <td>4450</td>\n",
       "      <td>[pause, timescale]</td>\n",
       "      <td>[How can I pause my game?, What is the best wa...</td>\n",
       "      <td>In the Editor, you can just click the pause bu...</td>\n",
       "    </tr>\n",
       "    <tr>\n",
       "      <th>1</th>\n",
       "      <td>7561</td>\n",
       "      <td>3146</td>\n",
       "      <td>[iphone, upload, appstore]</td>\n",
       "      <td>[How do I upload my iPhone app to the app stor...</td>\n",
       "      <td>Log into Apple's developer portal and click th...</td>\n",
       "    </tr>\n",
       "    <tr>\n",
       "      <th>2</th>\n",
       "      <td>7572</td>\n",
       "      <td>142</td>\n",
       "      <td>[debug, debugger]</td>\n",
       "      <td>[Is there a way to attach a debugger to the co...</td>\n",
       "      <td>You can attach the debugger to the editor proc...</td>\n",
       "    </tr>\n",
       "    <tr>\n",
       "      <th>3</th>\n",
       "      <td>7599</td>\n",
       "      <td>1213</td>\n",
       "      <td>[editor, editor-launch-fail, editor-crash]</td>\n",
       "      <td>[Why project indefinitely loads when opened?, ...</td>\n",
       "      <td>To attempt to solve the editor crash, create a...</td>\n",
       "    </tr>\n",
       "    <tr>\n",
       "      <th>4</th>\n",
       "      <td>7626</td>\n",
       "      <td>2218</td>\n",
       "      <td>[animation, import, maya]</td>\n",
       "      <td>[How can I make animations snap to a frame in ...</td>\n",
       "      <td>Set the time of AnimationState of the relevant...</td>\n",
       "    </tr>\n",
       "  </tbody>\n",
       "</table>\n",
       "</div>"
      ],
      "text/plain": [
       "     id  user_id                                        tags  \\\n",
       "0  7544     4450                          [pause, timescale]   \n",
       "1  7561     3146                  [iphone, upload, appstore]   \n",
       "2  7572      142                           [debug, debugger]   \n",
       "3  7599     1213  [editor, editor-launch-fail, editor-crash]   \n",
       "4  7626     2218                   [animation, import, maya]   \n",
       "\n",
       "                                             intents  \\\n",
       "0  [How can I pause my game?, What is the best wa...   \n",
       "1  [How do I upload my iPhone app to the app stor...   \n",
       "2  [Is there a way to attach a debugger to the co...   \n",
       "3  [Why project indefinitely loads when opened?, ...   \n",
       "4  [How can I make animations snap to a frame in ...   \n",
       "\n",
       "                                              answer  \n",
       "0  In the Editor, you can just click the pause bu...  \n",
       "1  Log into Apple's developer portal and click th...  \n",
       "2  You can attach the debugger to the editor proc...  \n",
       "3  To attempt to solve the editor crash, create a...  \n",
       "4  Set the time of AnimationState of the relevant...  "
      ]
     },
     "execution_count": 4,
     "metadata": {},
     "output_type": "execute_result"
    }
   ],
   "source": [
    "df1.head()"
   ]
  },
  {
   "cell_type": "code",
   "execution_count": 5,
   "id": "34e4c094",
   "metadata": {},
   "outputs": [
    {
     "data": {
      "text/html": [
       "<div>\n",
       "<style scoped>\n",
       "    .dataframe tbody tr th:only-of-type {\n",
       "        vertical-align: middle;\n",
       "    }\n",
       "\n",
       "    .dataframe tbody tr th {\n",
       "        vertical-align: top;\n",
       "    }\n",
       "\n",
       "    .dataframe thead th {\n",
       "        text-align: right;\n",
       "    }\n",
       "</style>\n",
       "<table border=\"1\" class=\"dataframe\">\n",
       "  <thead>\n",
       "    <tr style=\"text-align: right;\">\n",
       "      <th></th>\n",
       "      <th>id</th>\n",
       "      <th>user_id</th>\n",
       "      <th>tags</th>\n",
       "      <th>post_date</th>\n",
       "      <th>score</th>\n",
       "      <th>title</th>\n",
       "      <th>question</th>\n",
       "      <th>answer</th>\n",
       "    </tr>\n",
       "  </thead>\n",
       "  <tbody>\n",
       "    <tr>\n",
       "      <th>0</th>\n",
       "      <td>11458</td>\n",
       "      <td>44417</td>\n",
       "      <td>[timer]</td>\n",
       "      <td>2019-03-23</td>\n",
       "      <td>22.0</td>\n",
       "      <td>How to make a timer in the game</td>\n",
       "      <td>How to make a timer in the game? What I have s...</td>\n",
       "      <td>This should get you started: `private var star...</td>\n",
       "    </tr>\n",
       "    <tr>\n",
       "      <th>1</th>\n",
       "      <td>11858</td>\n",
       "      <td>2597</td>\n",
       "      <td>[editor, instantiate, editor-scripting, persist]</td>\n",
       "      <td>2019-04-13</td>\n",
       "      <td>13.0</td>\n",
       "      <td>Programatically instantiating GameObjects to t...</td>\n",
       "      <td>Hello, I am working on a tile based tactics ga...</td>\n",
       "      <td>The syntax to create gameobjects is the same a...</td>\n",
       "    </tr>\n",
       "    <tr>\n",
       "      <th>2</th>\n",
       "      <td>13289</td>\n",
       "      <td>4333</td>\n",
       "      <td>[rigidbody, cube, rotatearound, roll]</td>\n",
       "      <td>2021-07-10</td>\n",
       "      <td>0.0</td>\n",
       "      <td>Rolling Cube with Rigidbody?</td>\n",
       "      <td>Hi All, New to Unity3D, a few hours in, so bea...</td>\n",
       "      <td>Here's a short Youtube video that covers exact...</td>\n",
       "    </tr>\n",
       "    <tr>\n",
       "      <th>3</th>\n",
       "      <td>27760</td>\n",
       "      <td>123</td>\n",
       "      <td>[input, unityremote]</td>\n",
       "      <td>2012-01-17</td>\n",
       "      <td>1.0</td>\n",
       "      <td>Unity Remote not sending input from iPhone or ...</td>\n",
       "      <td>If I Build and Run to my iPhone4, all the inpu...</td>\n",
       "      <td>Stupid question, but is your mac/phone both co...</td>\n",
       "    </tr>\n",
       "    <tr>\n",
       "      <th>4</th>\n",
       "      <td>48510</td>\n",
       "      <td>5822</td>\n",
       "      <td>[instantiate, prefab]</td>\n",
       "      <td>2011-07-13</td>\n",
       "      <td>0.0</td>\n",
       "      <td>Prefab, Instantiate, Transfer Speed</td>\n",
       "      <td>prefab, Instantiate, transfer speed??? How do ...</td>\n",
       "      <td>Use Prefab in your Game Here is the tutorial f...</td>\n",
       "    </tr>\n",
       "  </tbody>\n",
       "</table>\n",
       "</div>"
      ],
      "text/plain": [
       "      id  user_id                                              tags  \\\n",
       "0  11458    44417                                           [timer]   \n",
       "1  11858     2597  [editor, instantiate, editor-scripting, persist]   \n",
       "2  13289     4333             [rigidbody, cube, rotatearound, roll]   \n",
       "3  27760      123                              [input, unityremote]   \n",
       "4  48510     5822                             [instantiate, prefab]   \n",
       "\n",
       "    post_date  score                                              title  \\\n",
       "0  2019-03-23   22.0                    How to make a timer in the game   \n",
       "1  2019-04-13   13.0  Programatically instantiating GameObjects to t...   \n",
       "2  2021-07-10    0.0                       Rolling Cube with Rigidbody?   \n",
       "3  2012-01-17    1.0  Unity Remote not sending input from iPhone or ...   \n",
       "4  2011-07-13    0.0                Prefab, Instantiate, Transfer Speed   \n",
       "\n",
       "                                            question  \\\n",
       "0  How to make a timer in the game? What I have s...   \n",
       "1  Hello, I am working on a tile based tactics ga...   \n",
       "2  Hi All, New to Unity3D, a few hours in, so bea...   \n",
       "3  If I Build and Run to my iPhone4, all the inpu...   \n",
       "4  prefab, Instantiate, transfer speed??? How do ...   \n",
       "\n",
       "                                              answer  \n",
       "0  This should get you started: `private var star...  \n",
       "1  The syntax to create gameobjects is the same a...  \n",
       "2  Here's a short Youtube video that covers exact...  \n",
       "3  Stupid question, but is your mac/phone both co...  \n",
       "4  Use Prefab in your Game Here is the tutorial f...  "
      ]
     },
     "execution_count": 5,
     "metadata": {},
     "output_type": "execute_result"
    }
   ],
   "source": [
    "df2.head()"
   ]
  },
  {
   "cell_type": "code",
   "execution_count": 6,
   "id": "ce65f4d3",
   "metadata": {},
   "outputs": [
    {
     "name": "stdout",
     "output_type": "stream",
     "text": [
      "<class 'pandas.core.frame.DataFrame'>\n",
      "RangeIndex: 12270 entries, 0 to 12269\n",
      "Data columns (total 5 columns):\n",
      " #   Column   Non-Null Count  Dtype \n",
      "---  ------   --------------  ----- \n",
      " 0   id       12270 non-null  int64 \n",
      " 1   user_id  12270 non-null  int64 \n",
      " 2   tags     12270 non-null  object\n",
      " 3   intents  12270 non-null  object\n",
      " 4   answer   12270 non-null  object\n",
      "dtypes: int64(2), object(3)\n",
      "memory usage: 479.4+ KB\n"
     ]
    }
   ],
   "source": [
    "df1.info()"
   ]
  },
  {
   "cell_type": "code",
   "execution_count": 7,
   "id": "c4af8e4a",
   "metadata": {},
   "outputs": [
    {
     "name": "stdout",
     "output_type": "stream",
     "text": [
      "<class 'pandas.core.frame.DataFrame'>\n",
      "RangeIndex: 54509 entries, 0 to 54508\n",
      "Data columns (total 8 columns):\n",
      " #   Column     Non-Null Count  Dtype  \n",
      "---  ------     --------------  -----  \n",
      " 0   id         54509 non-null  int64  \n",
      " 1   user_id    54509 non-null  int64  \n",
      " 2   tags       54509 non-null  object \n",
      " 3   post_date  54509 non-null  object \n",
      " 4   score      54505 non-null  float64\n",
      " 5   title      54509 non-null  object \n",
      " 6   question   54509 non-null  object \n",
      " 7   answer     54505 non-null  object \n",
      "dtypes: float64(1), int64(2), object(5)\n",
      "memory usage: 3.3+ MB\n"
     ]
    }
   ],
   "source": [
    "df2.info()"
   ]
  },
  {
   "cell_type": "code",
   "execution_count": 8,
   "id": "3a339a46",
   "metadata": {},
   "outputs": [
    {
     "data": {
      "text/plain": [
       "id           0\n",
       "user_id      0\n",
       "tags         0\n",
       "post_date    0\n",
       "score        4\n",
       "title        0\n",
       "question     0\n",
       "answer       4\n",
       "dtype: int64"
      ]
     },
     "execution_count": 8,
     "metadata": {},
     "output_type": "execute_result"
    }
   ],
   "source": [
    "df2.isnull().sum()"
   ]
  },
  {
   "cell_type": "code",
   "execution_count": 9,
   "id": "73087f52",
   "metadata": {},
   "outputs": [
    {
     "name": "stdout",
     "output_type": "stream",
     "text": [
      "<class 'pandas.core.frame.DataFrame'>\n",
      "RangeIndex: 12270 entries, 0 to 12269\n",
      "Data columns (total 5 columns):\n",
      " #   Column   Non-Null Count  Dtype \n",
      "---  ------   --------------  ----- \n",
      " 0   id       12270 non-null  int64 \n",
      " 1   user_id  12270 non-null  int64 \n",
      " 2   tags     12270 non-null  object\n",
      " 3   intents  12270 non-null  object\n",
      " 4   answer   12270 non-null  object\n",
      "dtypes: int64(2), object(3)\n",
      "memory usage: 479.4+ KB\n"
     ]
    }
   ],
   "source": [
    "df1.info()"
   ]
  },
  {
   "cell_type": "code",
   "execution_count": 10,
   "id": "92ba7510",
   "metadata": {},
   "outputs": [
    {
     "data": {
      "text/plain": [
       "['How can I pause my game?',\n",
       " 'What is the best way to pause my game?',\n",
       " 'When I play a game, how do I pause it?',\n",
       " 'Could you please tell me how I can pause my game?',\n",
       " 'In order to pause my game, what should I do?',\n",
       " 'My game is paused, and I would like to know how to stop it?',\n",
       " 'Can I pause my game in a certain way?',\n",
       " 'When I am playing a video game, how can I pause it?',\n",
       " 'What is the best way to pause a game once I have started it?',\n",
       " 'I am unable to pause my game for some reason. What should I do?',\n",
       " 'Would you mind telling me how I can pause my game?']"
      ]
     },
     "execution_count": 10,
     "metadata": {},
     "output_type": "execute_result"
    }
   ],
   "source": [
    "df1['intents'][0]"
   ]
  },
  {
   "cell_type": "code",
   "execution_count": 11,
   "id": "76f4cf94",
   "metadata": {},
   "outputs": [],
   "source": [
    "df_explodes = df1.explode('intents',ignore_index=True)"
   ]
  },
  {
   "cell_type": "code",
   "execution_count": 12,
   "id": "dd2666f2",
   "metadata": {},
   "outputs": [],
   "source": [
    "df_explodes = shuffle(df_explodes)"
   ]
  },
  {
   "cell_type": "code",
   "execution_count": 13,
   "id": "e16d5129",
   "metadata": {},
   "outputs": [
    {
     "data": {
      "text/html": [
       "<div>\n",
       "<style scoped>\n",
       "    .dataframe tbody tr th:only-of-type {\n",
       "        vertical-align: middle;\n",
       "    }\n",
       "\n",
       "    .dataframe tbody tr th {\n",
       "        vertical-align: top;\n",
       "    }\n",
       "\n",
       "    .dataframe thead th {\n",
       "        text-align: right;\n",
       "    }\n",
       "</style>\n",
       "<table border=\"1\" class=\"dataframe\">\n",
       "  <thead>\n",
       "    <tr style=\"text-align: right;\">\n",
       "      <th></th>\n",
       "      <th>id</th>\n",
       "      <th>user_id</th>\n",
       "      <th>tags</th>\n",
       "      <th>intents</th>\n",
       "      <th>answer</th>\n",
       "    </tr>\n",
       "  </thead>\n",
       "  <tbody>\n",
       "    <tr>\n",
       "      <th>21224</th>\n",
       "      <td>229605</td>\n",
       "      <td>4621</td>\n",
       "      <td>[lighting, shadow, line]</td>\n",
       "      <td>Why is the shadow projector causing a funny in...</td>\n",
       "      <td>The shadow projector is stretching the image h...</td>\n",
       "    </tr>\n",
       "    <tr>\n",
       "      <th>75059</th>\n",
       "      <td>933746</td>\n",
       "      <td>80</td>\n",
       "      <td>[editor, variable, editorwindow, scope]</td>\n",
       "      <td>Is there a way to access EditorWindow variable...</td>\n",
       "      <td>#if UNITY\\_EDITOR</td>\n",
       "    </tr>\n",
       "    <tr>\n",
       "      <th>96176</th>\n",
       "      <td>1295798</td>\n",
       "      <td>508</td>\n",
       "      <td>[character movement, root motion]</td>\n",
       "      <td>In an animation where there is root motion, ho...</td>\n",
       "      <td>Set the character's position after an animatio...</td>\n",
       "    </tr>\n",
       "    <tr>\n",
       "      <th>93123</th>\n",
       "      <td>1235959</td>\n",
       "      <td>388</td>\n",
       "      <td>[getcomponent, loading, reference, cache, game...</td>\n",
       "      <td>The gameobject.Find/GetComponent method does n...</td>\n",
       "      <td>Because the component doesn't exist yet.</td>\n",
       "    </tr>\n",
       "    <tr>\n",
       "      <th>9734</th>\n",
       "      <td>138940</td>\n",
       "      <td>2486</td>\n",
       "      <td>[scene, large, z-fighting]</td>\n",
       "      <td>If I am creating a large scene in Unity, and I...</td>\n",
       "      <td>Don't use z-writing and z-reading on the sea. ...</td>\n",
       "    </tr>\n",
       "    <tr>\n",
       "      <th>...</th>\n",
       "      <td>...</td>\n",
       "      <td>...</td>\n",
       "      <td>...</td>\n",
       "      <td>...</td>\n",
       "      <td>...</td>\n",
       "    </tr>\n",
       "    <tr>\n",
       "      <th>127888</th>\n",
       "      <td>1743174</td>\n",
       "      <td>4517</td>\n",
       "      <td>[scripting problem, movement, scripting beginn...</td>\n",
       "      <td>If the sound effect does not continue to play,...</td>\n",
       "      <td>Use the PlaySound() method.</td>\n",
       "    </tr>\n",
       "    <tr>\n",
       "      <th>55247</th>\n",
       "      <td>660973</td>\n",
       "      <td>0</td>\n",
       "      <td>[crafting]</td>\n",
       "      <td>In order to make my program so that the value ...</td>\n",
       "      <td>Increase furnace by 1 if stone &gt;= 15</td>\n",
       "    </tr>\n",
       "    <tr>\n",
       "      <th>74054</th>\n",
       "      <td>921841</td>\n",
       "      <td>419</td>\n",
       "      <td>[audio, filter, pass, low, cutoff]</td>\n",
       "      <td>I would like to change the cutoff frequency of...</td>\n",
       "      <td>filter.cutoffFrequency = 100;</td>\n",
       "    </tr>\n",
       "    <tr>\n",
       "      <th>32544</th>\n",
       "      <td>369235</td>\n",
       "      <td>0</td>\n",
       "      <td>[trail]</td>\n",
       "      <td>If I wanted to create a trail like in Angry Bi...</td>\n",
       "      <td>Inflate a Mesh Renderer.</td>\n",
       "    </tr>\n",
       "    <tr>\n",
       "      <th>85260</th>\n",
       "      <td>1079075</td>\n",
       "      <td>8373</td>\n",
       "      <td>[editor-scripting, guilayout, field, objectfield]</td>\n",
       "      <td>How can I set a default GameObject in an Edito...</td>\n",
       "      <td>Use GUILayout.Control instead of ObjectField.</td>\n",
       "    </tr>\n",
       "  </tbody>\n",
       "</table>\n",
       "<p>134183 rows × 5 columns</p>\n",
       "</div>"
      ],
      "text/plain": [
       "             id  user_id                                               tags  \\\n",
       "21224    229605     4621                           [lighting, shadow, line]   \n",
       "75059    933746       80            [editor, variable, editorwindow, scope]   \n",
       "96176   1295798      508                  [character movement, root motion]   \n",
       "93123   1235959      388  [getcomponent, loading, reference, cache, game...   \n",
       "9734     138940     2486                         [scene, large, z-fighting]   \n",
       "...         ...      ...                                                ...   \n",
       "127888  1743174     4517  [scripting problem, movement, scripting beginn...   \n",
       "55247    660973        0                                         [crafting]   \n",
       "74054    921841      419                 [audio, filter, pass, low, cutoff]   \n",
       "32544    369235        0                                            [trail]   \n",
       "85260   1079075     8373  [editor-scripting, guilayout, field, objectfield]   \n",
       "\n",
       "                                                  intents  \\\n",
       "21224   Why is the shadow projector causing a funny in...   \n",
       "75059   Is there a way to access EditorWindow variable...   \n",
       "96176   In an animation where there is root motion, ho...   \n",
       "93123   The gameobject.Find/GetComponent method does n...   \n",
       "9734    If I am creating a large scene in Unity, and I...   \n",
       "...                                                   ...   \n",
       "127888  If the sound effect does not continue to play,...   \n",
       "55247   In order to make my program so that the value ...   \n",
       "74054   I would like to change the cutoff frequency of...   \n",
       "32544   If I wanted to create a trail like in Angry Bi...   \n",
       "85260   How can I set a default GameObject in an Edito...   \n",
       "\n",
       "                                                   answer  \n",
       "21224   The shadow projector is stretching the image h...  \n",
       "75059                                   #if UNITY\\_EDITOR  \n",
       "96176   Set the character's position after an animatio...  \n",
       "93123            Because the component doesn't exist yet.  \n",
       "9734    Don't use z-writing and z-reading on the sea. ...  \n",
       "...                                                   ...  \n",
       "127888                        Use the PlaySound() method.  \n",
       "55247                Increase furnace by 1 if stone >= 15  \n",
       "74054                       filter.cutoffFrequency = 100;  \n",
       "32544                            Inflate a Mesh Renderer.  \n",
       "85260       Use GUILayout.Control instead of ObjectField.  \n",
       "\n",
       "[134183 rows x 5 columns]"
      ]
     },
     "execution_count": 13,
     "metadata": {},
     "output_type": "execute_result"
    }
   ],
   "source": [
    "df_explodes"
   ]
  },
  {
   "cell_type": "code",
   "execution_count": 24,
   "id": "6e7f69cd",
   "metadata": {},
   "outputs": [],
   "source": [
    "# At first we will train using intent and predict answer\n",
    "X = df_explodes['intents']\n",
    "y = df_explodes['tags']"
   ]
  },
  {
   "cell_type": "code",
   "execution_count": null,
   "id": "84c5016a",
   "metadata": {},
   "outputs": [],
   "source": [
    "y[0]"
   ]
  },
  {
   "cell_type": "code",
   "execution_count": 31,
   "id": "ac9c212c",
   "metadata": {},
   "outputs": [],
   "source": [
    "# Create and fit the MultiLabelBinarizer\n",
    "mlb = MultiLabelBinarizer()\n",
    "binary_labels_y = mlb.fit_transform(y)"
   ]
  },
  {
   "cell_type": "code",
   "execution_count": 38,
   "id": "723fac3b",
   "metadata": {},
   "outputs": [
    {
     "data": {
      "text/plain": [
       "array([0, 0, 0, ..., 0, 0, 0])"
      ]
     },
     "execution_count": 38,
     "metadata": {},
     "output_type": "execute_result"
    }
   ],
   "source": [
    "binary_labels_y[0]"
   ]
  },
  {
   "cell_type": "code",
   "execution_count": 33,
   "id": "244e8cda",
   "metadata": {},
   "outputs": [],
   "source": [
    "# Split datasets into train and test\n",
    "X_train,X_test,y_train,y_test = train_test_split(X,binary_labels_y,test_size=0.2,random_state=42)"
   ]
  },
  {
   "cell_type": "code",
   "execution_count": 37,
   "id": "e53d9a95",
   "metadata": {},
   "outputs": [
    {
     "ename": "AttributeError",
     "evalue": "'numpy.ndarray' object has no attribute 'head'",
     "output_type": "error",
     "traceback": [
      "\u001b[0;31m---------------------------------------------------------------------------\u001b[0m",
      "\u001b[0;31mAttributeError\u001b[0m                            Traceback (most recent call last)",
      "Input \u001b[0;32mIn [37]\u001b[0m, in \u001b[0;36m<cell line: 1>\u001b[0;34m()\u001b[0m\n\u001b[0;32m----> 1\u001b[0m \u001b[43my_train\u001b[49m\u001b[38;5;241;43m.\u001b[39;49m\u001b[43mhead\u001b[49m()\n",
      "\u001b[0;31mAttributeError\u001b[0m: 'numpy.ndarray' object has no attribute 'head'"
     ]
    }
   ],
   "source": [
    "y_train."
   ]
  },
  {
   "cell_type": "code",
   "execution_count": 35,
   "id": "5a16ee93",
   "metadata": {},
   "outputs": [],
   "source": [
    "vectorizer = TfidfVectorizer()\n",
    "X_train = vectorizer.fit_transform(X_train)\n",
    "X_test = vectorizer.transform(X_test)"
   ]
  },
  {
   "cell_type": "code",
   "execution_count": 30,
   "id": "4de24ddc",
   "metadata": {},
   "outputs": [],
   "source": []
  },
  {
   "cell_type": "code",
   "execution_count": null,
   "id": "02901f95",
   "metadata": {},
   "outputs": [],
   "source": []
  },
  {
   "cell_type": "code",
   "execution_count": null,
   "id": "dabb0ea1",
   "metadata": {},
   "outputs": [],
   "source": []
  },
  {
   "cell_type": "code",
   "execution_count": 36,
   "id": "2618869f",
   "metadata": {},
   "outputs": [
    {
     "ename": "ValueError",
     "evalue": "y should be a 1d array, got an array of shape (107346, 3738) instead.",
     "output_type": "error",
     "traceback": [
      "\u001b[0;31m---------------------------------------------------------------------------\u001b[0m",
      "\u001b[0;31mValueError\u001b[0m                                Traceback (most recent call last)",
      "Input \u001b[0;32mIn [36]\u001b[0m, in \u001b[0;36m<cell line: 3>\u001b[0;34m()\u001b[0m\n\u001b[1;32m      1\u001b[0m \u001b[38;5;66;03m# Train the Naive Bayes classifier\u001b[39;00m\n\u001b[1;32m      2\u001b[0m nb_classifier \u001b[38;5;241m=\u001b[39m MultinomialNB()\n\u001b[0;32m----> 3\u001b[0m \u001b[43mnb_classifier\u001b[49m\u001b[38;5;241;43m.\u001b[39;49m\u001b[43mfit\u001b[49m\u001b[43m(\u001b[49m\u001b[43mX_train\u001b[49m\u001b[43m,\u001b[49m\u001b[43m \u001b[49m\u001b[43my_train\u001b[49m\u001b[43m)\u001b[49m\n",
      "File \u001b[0;32m~/tensoflow-test/env/lib/python3.10/site-packages/sklearn/naive_bayes.py:699\u001b[0m, in \u001b[0;36m_BaseDiscreteNB.fit\u001b[0;34m(self, X, y, sample_weight)\u001b[0m\n\u001b[1;32m    679\u001b[0m \u001b[38;5;28;01mdef\u001b[39;00m \u001b[38;5;21mfit\u001b[39m(\u001b[38;5;28mself\u001b[39m, X, y, sample_weight\u001b[38;5;241m=\u001b[39m\u001b[38;5;28;01mNone\u001b[39;00m):\n\u001b[1;32m    680\u001b[0m     \u001b[38;5;124;03m\"\"\"Fit Naive Bayes classifier according to X, y.\u001b[39;00m\n\u001b[1;32m    681\u001b[0m \n\u001b[1;32m    682\u001b[0m \u001b[38;5;124;03m    Parameters\u001b[39;00m\n\u001b[0;32m   (...)\u001b[0m\n\u001b[1;32m    697\u001b[0m \u001b[38;5;124;03m        Returns the instance itself.\u001b[39;00m\n\u001b[1;32m    698\u001b[0m \u001b[38;5;124;03m    \"\"\"\u001b[39;00m\n\u001b[0;32m--> 699\u001b[0m     X, y \u001b[38;5;241m=\u001b[39m \u001b[38;5;28;43mself\u001b[39;49m\u001b[38;5;241;43m.\u001b[39;49m\u001b[43m_check_X_y\u001b[49m\u001b[43m(\u001b[49m\u001b[43mX\u001b[49m\u001b[43m,\u001b[49m\u001b[43m \u001b[49m\u001b[43my\u001b[49m\u001b[43m)\u001b[49m\n\u001b[1;32m    700\u001b[0m     _, n_features \u001b[38;5;241m=\u001b[39m X\u001b[38;5;241m.\u001b[39mshape\n\u001b[1;32m    702\u001b[0m     labelbin \u001b[38;5;241m=\u001b[39m LabelBinarizer()\n",
      "File \u001b[0;32m~/tensoflow-test/env/lib/python3.10/site-packages/sklearn/naive_bayes.py:553\u001b[0m, in \u001b[0;36m_BaseDiscreteNB._check_X_y\u001b[0;34m(self, X, y, reset)\u001b[0m\n\u001b[1;32m    551\u001b[0m \u001b[38;5;28;01mdef\u001b[39;00m \u001b[38;5;21m_check_X_y\u001b[39m(\u001b[38;5;28mself\u001b[39m, X, y, reset\u001b[38;5;241m=\u001b[39m\u001b[38;5;28;01mTrue\u001b[39;00m):\n\u001b[1;32m    552\u001b[0m     \u001b[38;5;124;03m\"\"\"Validate X and y in fit methods.\"\"\"\u001b[39;00m\n\u001b[0;32m--> 553\u001b[0m     \u001b[38;5;28;01mreturn\u001b[39;00m \u001b[38;5;28;43mself\u001b[39;49m\u001b[38;5;241;43m.\u001b[39;49m\u001b[43m_validate_data\u001b[49m\u001b[43m(\u001b[49m\u001b[43mX\u001b[49m\u001b[43m,\u001b[49m\u001b[43m \u001b[49m\u001b[43my\u001b[49m\u001b[43m,\u001b[49m\u001b[43m \u001b[49m\u001b[43maccept_sparse\u001b[49m\u001b[38;5;241;43m=\u001b[39;49m\u001b[38;5;124;43m\"\u001b[39;49m\u001b[38;5;124;43mcsr\u001b[39;49m\u001b[38;5;124;43m\"\u001b[39;49m\u001b[43m,\u001b[49m\u001b[43m \u001b[49m\u001b[43mreset\u001b[49m\u001b[38;5;241;43m=\u001b[39;49m\u001b[43mreset\u001b[49m\u001b[43m)\u001b[49m\n",
      "File \u001b[0;32m~/tensoflow-test/env/lib/python3.10/site-packages/sklearn/base.py:596\u001b[0m, in \u001b[0;36mBaseEstimator._validate_data\u001b[0;34m(self, X, y, reset, validate_separately, **check_params)\u001b[0m\n\u001b[1;32m    594\u001b[0m         y \u001b[38;5;241m=\u001b[39m check_array(y, input_name\u001b[38;5;241m=\u001b[39m\u001b[38;5;124m\"\u001b[39m\u001b[38;5;124my\u001b[39m\u001b[38;5;124m\"\u001b[39m, \u001b[38;5;241m*\u001b[39m\u001b[38;5;241m*\u001b[39mcheck_y_params)\n\u001b[1;32m    595\u001b[0m     \u001b[38;5;28;01melse\u001b[39;00m:\n\u001b[0;32m--> 596\u001b[0m         X, y \u001b[38;5;241m=\u001b[39m \u001b[43mcheck_X_y\u001b[49m\u001b[43m(\u001b[49m\u001b[43mX\u001b[49m\u001b[43m,\u001b[49m\u001b[43m \u001b[49m\u001b[43my\u001b[49m\u001b[43m,\u001b[49m\u001b[43m \u001b[49m\u001b[38;5;241;43m*\u001b[39;49m\u001b[38;5;241;43m*\u001b[39;49m\u001b[43mcheck_params\u001b[49m\u001b[43m)\u001b[49m\n\u001b[1;32m    597\u001b[0m     out \u001b[38;5;241m=\u001b[39m X, y\n\u001b[1;32m    599\u001b[0m \u001b[38;5;28;01mif\u001b[39;00m \u001b[38;5;129;01mnot\u001b[39;00m no_val_X \u001b[38;5;129;01mand\u001b[39;00m check_params\u001b[38;5;241m.\u001b[39mget(\u001b[38;5;124m\"\u001b[39m\u001b[38;5;124mensure_2d\u001b[39m\u001b[38;5;124m\"\u001b[39m, \u001b[38;5;28;01mTrue\u001b[39;00m):\n",
      "File \u001b[0;32m~/tensoflow-test/env/lib/python3.10/site-packages/sklearn/utils/validation.py:1090\u001b[0m, in \u001b[0;36mcheck_X_y\u001b[0;34m(X, y, accept_sparse, accept_large_sparse, dtype, order, copy, force_all_finite, ensure_2d, allow_nd, multi_output, ensure_min_samples, ensure_min_features, y_numeric, estimator)\u001b[0m\n\u001b[1;32m   1070\u001b[0m     \u001b[38;5;28;01mraise\u001b[39;00m \u001b[38;5;167;01mValueError\u001b[39;00m(\n\u001b[1;32m   1071\u001b[0m         \u001b[38;5;124mf\u001b[39m\u001b[38;5;124m\"\u001b[39m\u001b[38;5;132;01m{\u001b[39;00mestimator_name\u001b[38;5;132;01m}\u001b[39;00m\u001b[38;5;124m requires y to be passed, but the target y is None\u001b[39m\u001b[38;5;124m\"\u001b[39m\n\u001b[1;32m   1072\u001b[0m     )\n\u001b[1;32m   1074\u001b[0m X \u001b[38;5;241m=\u001b[39m check_array(\n\u001b[1;32m   1075\u001b[0m     X,\n\u001b[1;32m   1076\u001b[0m     accept_sparse\u001b[38;5;241m=\u001b[39maccept_sparse,\n\u001b[0;32m   (...)\u001b[0m\n\u001b[1;32m   1087\u001b[0m     input_name\u001b[38;5;241m=\u001b[39m\u001b[38;5;124m\"\u001b[39m\u001b[38;5;124mX\u001b[39m\u001b[38;5;124m\"\u001b[39m,\n\u001b[1;32m   1088\u001b[0m )\n\u001b[0;32m-> 1090\u001b[0m y \u001b[38;5;241m=\u001b[39m \u001b[43m_check_y\u001b[49m\u001b[43m(\u001b[49m\u001b[43my\u001b[49m\u001b[43m,\u001b[49m\u001b[43m \u001b[49m\u001b[43mmulti_output\u001b[49m\u001b[38;5;241;43m=\u001b[39;49m\u001b[43mmulti_output\u001b[49m\u001b[43m,\u001b[49m\u001b[43m \u001b[49m\u001b[43my_numeric\u001b[49m\u001b[38;5;241;43m=\u001b[39;49m\u001b[43my_numeric\u001b[49m\u001b[43m,\u001b[49m\u001b[43m \u001b[49m\u001b[43mestimator\u001b[49m\u001b[38;5;241;43m=\u001b[39;49m\u001b[43mestimator\u001b[49m\u001b[43m)\u001b[49m\n\u001b[1;32m   1092\u001b[0m check_consistent_length(X, y)\n\u001b[1;32m   1094\u001b[0m \u001b[38;5;28;01mreturn\u001b[39;00m X, y\n",
      "File \u001b[0;32m~/tensoflow-test/env/lib/python3.10/site-packages/sklearn/utils/validation.py:1111\u001b[0m, in \u001b[0;36m_check_y\u001b[0;34m(y, multi_output, y_numeric, estimator)\u001b[0m\n\u001b[1;32m   1109\u001b[0m \u001b[38;5;28;01melse\u001b[39;00m:\n\u001b[1;32m   1110\u001b[0m     estimator_name \u001b[38;5;241m=\u001b[39m _check_estimator_name(estimator)\n\u001b[0;32m-> 1111\u001b[0m     y \u001b[38;5;241m=\u001b[39m \u001b[43mcolumn_or_1d\u001b[49m\u001b[43m(\u001b[49m\u001b[43my\u001b[49m\u001b[43m,\u001b[49m\u001b[43m \u001b[49m\u001b[43mwarn\u001b[49m\u001b[38;5;241;43m=\u001b[39;49m\u001b[38;5;28;43;01mTrue\u001b[39;49;00m\u001b[43m)\u001b[49m\n\u001b[1;32m   1112\u001b[0m     _assert_all_finite(y, input_name\u001b[38;5;241m=\u001b[39m\u001b[38;5;124m\"\u001b[39m\u001b[38;5;124my\u001b[39m\u001b[38;5;124m\"\u001b[39m, estimator_name\u001b[38;5;241m=\u001b[39mestimator_name)\n\u001b[1;32m   1113\u001b[0m     _ensure_no_complex_data(y)\n",
      "File \u001b[0;32m~/tensoflow-test/env/lib/python3.10/site-packages/sklearn/utils/validation.py:1156\u001b[0m, in \u001b[0;36mcolumn_or_1d\u001b[0;34m(y, warn)\u001b[0m\n\u001b[1;32m   1147\u001b[0m         warnings\u001b[38;5;241m.\u001b[39mwarn(\n\u001b[1;32m   1148\u001b[0m             \u001b[38;5;124m\"\u001b[39m\u001b[38;5;124mA column-vector y was passed when a 1d array was\u001b[39m\u001b[38;5;124m\"\u001b[39m\n\u001b[1;32m   1149\u001b[0m             \u001b[38;5;124m\"\u001b[39m\u001b[38;5;124m expected. Please change the shape of y to \u001b[39m\u001b[38;5;124m\"\u001b[39m\n\u001b[0;32m   (...)\u001b[0m\n\u001b[1;32m   1152\u001b[0m             stacklevel\u001b[38;5;241m=\u001b[39m\u001b[38;5;241m2\u001b[39m,\n\u001b[1;32m   1153\u001b[0m         )\n\u001b[1;32m   1154\u001b[0m     \u001b[38;5;28;01mreturn\u001b[39;00m np\u001b[38;5;241m.\u001b[39mravel(y)\n\u001b[0;32m-> 1156\u001b[0m \u001b[38;5;28;01mraise\u001b[39;00m \u001b[38;5;167;01mValueError\u001b[39;00m(\n\u001b[1;32m   1157\u001b[0m     \u001b[38;5;124m\"\u001b[39m\u001b[38;5;124my should be a 1d array, got an array of shape \u001b[39m\u001b[38;5;132;01m{}\u001b[39;00m\u001b[38;5;124m instead.\u001b[39m\u001b[38;5;124m\"\u001b[39m\u001b[38;5;241m.\u001b[39mformat(shape)\n\u001b[1;32m   1158\u001b[0m )\n",
      "\u001b[0;31mValueError\u001b[0m: y should be a 1d array, got an array of shape (107346, 3738) instead."
     ]
    }
   ],
   "source": [
    "# Train the Naive Bayes classifier\n",
    "nb_classifier = MultinomialNB()\n",
    "nb_classifier.fit(X_train, y_train)"
   ]
  },
  {
   "cell_type": "code",
   "execution_count": null,
   "id": "e614e774",
   "metadata": {},
   "outputs": [],
   "source": []
  },
  {
   "cell_type": "code",
   "execution_count": null,
   "id": "cb046607",
   "metadata": {},
   "outputs": [],
   "source": []
  },
  {
   "cell_type": "code",
   "execution_count": null,
   "id": "b1fc4eec",
   "metadata": {},
   "outputs": [],
   "source": [
    "\n"
   ]
  },
  {
   "cell_type": "code",
   "execution_count": null,
   "id": "dfb848cf",
   "metadata": {},
   "outputs": [],
   "source": []
  },
  {
   "cell_type": "code",
   "execution_count": null,
   "id": "f784b748",
   "metadata": {},
   "outputs": [],
   "source": [
    "y_pred"
   ]
  },
  {
   "cell_type": "code",
   "execution_count": null,
   "id": "470a2582",
   "metadata": {},
   "outputs": [],
   "source": [
    "# Evaluate the classifier\n",
    "accuracy = accuracy_score(y_test, y_pred)\n",
    "print(\"Accuracy:\", accuracy)\n"
   ]
  },
  {
   "cell_type": "code",
   "execution_count": null,
   "id": "42252948",
   "metadata": {},
   "outputs": [],
   "source": []
  },
  {
   "cell_type": "code",
   "execution_count": null,
   "id": "feafdf58",
   "metadata": {},
   "outputs": [],
   "source": [
    "def preprocess_text(text_list):\n",
    "    # Convert the list of strings to a single string\n",
    "    text = ' '.join(text_list)\n",
    "    return text\n"
   ]
  },
  {
   "cell_type": "code",
   "execution_count": null,
   "id": "35c35704",
   "metadata": {},
   "outputs": [],
   "source": []
  },
  {
   "cell_type": "code",
   "execution_count": null,
   "id": "2f5eede1",
   "metadata": {},
   "outputs": [],
   "source": []
  },
  {
   "cell_type": "code",
   "execution_count": null,
   "id": "b6cf533e",
   "metadata": {},
   "outputs": [],
   "source": []
  },
  {
   "cell_type": "code",
   "execution_count": null,
   "id": "d25b18e9",
   "metadata": {},
   "outputs": [],
   "source": []
  },
  {
   "cell_type": "code",
   "execution_count": null,
   "id": "929e44c2",
   "metadata": {},
   "outputs": [],
   "source": []
  },
  {
   "cell_type": "code",
   "execution_count": null,
   "id": "8b23fbfd",
   "metadata": {},
   "outputs": [],
   "source": []
  },
  {
   "cell_type": "code",
   "execution_count": null,
   "id": "64615d86",
   "metadata": {},
   "outputs": [],
   "source": [
    "df1['intents'] = df1['intents'].apply(preprocess_text)"
   ]
  },
  {
   "cell_type": "code",
   "execution_count": null,
   "id": "eac97e59",
   "metadata": {},
   "outputs": [],
   "source": [
    "# Combine user intents and all intents for TF-IDF vectorization\n",
    "corpus = df1['intents']\n"
   ]
  },
  {
   "cell_type": "code",
   "execution_count": null,
   "id": "f3778985",
   "metadata": {},
   "outputs": [],
   "source": [
    "corpus"
   ]
  },
  {
   "cell_type": "code",
   "execution_count": null,
   "id": "5ccf2bf1",
   "metadata": {},
   "outputs": [],
   "source": [
    "# Feature Extraction using TF-IDF\n",
    "vectorizer = TfidfVectorizer()\n",
    "X = vectorizer.fit_transform(corpus)\n",
    "X"
   ]
  },
  {
   "cell_type": "code",
   "execution_count": null,
   "id": "df2317a1",
   "metadata": {},
   "outputs": [],
   "source": [
    "# Calculate similarity scores for all intents\n",
    "similarity_scores = cosine_similarity(X, X)\n",
    "similarity_scores"
   ]
  },
  {
   "cell_type": "code",
   "execution_count": null,
   "id": "8b3fa2cf",
   "metadata": {},
   "outputs": [],
   "source": [
    "# Assuming you have a new user intent to find the most similar intent\n",
    "new_user_intent = input(\"Enter you Question : \")\n",
    "new_user_intent_vector = vectorizer.transform([new_user_intent])\n",
    "new_user_intent_vector"
   ]
  },
  {
   "cell_type": "code",
   "execution_count": null,
   "id": "da852713",
   "metadata": {},
   "outputs": [],
   "source": [
    "# Calculate similarity between the new user intent and all intents\n",
    "new_user_similarity_scores = cosine_similarity(new_user_intent_vector, X)\n",
    "new_user_similarity_scores"
   ]
  },
  {
   "cell_type": "code",
   "execution_count": null,
   "id": "8f7c9ee1",
   "metadata": {},
   "outputs": [],
   "source": [
    "# Find the index of the most similar intent\n",
    "most_similar_index = new_user_similarity_scores.argmax()\n",
    "most_similar_index"
   ]
  },
  {
   "cell_type": "code",
   "execution_count": null,
   "id": "06721b64",
   "metadata": {},
   "outputs": [],
   "source": [
    "# Retrieve the answer for the most similar intent\n",
    "most_similar_answer = df1.iloc[most_similar_index]['answer']"
   ]
  },
  {
   "cell_type": "code",
   "execution_count": null,
   "id": "61d9a213",
   "metadata": {},
   "outputs": [],
   "source": [
    "print(\"Most Similar Intent:\", df1.iloc[most_similar_index]['intents'])\n",
    "print(\"Most Similar Tag:\", df1.iloc[most_similar_index]['tags'])\n",
    "print(\"Most Similar Answer:\", most_similar_answer)"
   ]
  },
  {
   "cell_type": "code",
   "execution_count": null,
   "id": "d9630407",
   "metadata": {},
   "outputs": [],
   "source": []
  }
 ],
 "metadata": {
  "kernelspec": {
   "display_name": "Python 3 (ipykernel)",
   "language": "python",
   "name": "python3"
  },
  "language_info": {
   "codemirror_mode": {
    "name": "ipython",
    "version": 3
   },
   "file_extension": ".py",
   "mimetype": "text/x-python",
   "name": "python",
   "nbconvert_exporter": "python",
   "pygments_lexer": "ipython3",
   "version": "3.10.5"
  }
 },
 "nbformat": 4,
 "nbformat_minor": 5
}
