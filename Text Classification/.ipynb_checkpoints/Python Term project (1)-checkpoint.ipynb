{
 "cells": [
  {
   "cell_type": "code",
   "execution_count": 1,
   "id": "a876761b",
   "metadata": {},
   "outputs": [],
   "source": [
    "import pandas as pd\n",
    "import numpy as np\n",
    "from sklearn.model_selection import train_test_split\n",
    "import matplotlib.pyplot as plt\n",
    "import seaborn as sns\n"
   ]
  },
  {
   "cell_type": "markdown",
   "id": "cbda825a",
   "metadata": {},
   "source": [
    "# Data Extraction"
   ]
  },
  {
   "cell_type": "code",
   "execution_count": 2,
   "id": "b939a5f8",
   "metadata": {},
   "outputs": [],
   "source": [
    "import json\n",
    "\n",
    "# Specify the correct encoding (if known) when opening the JSON file\n",
    "with open(\"intents.json\", encoding='utf-8') as f:\n",
    "    # Read each line as a separate JSON object\n",
    "    lines = f.readlines()\n",
    "\n",
    "# Load JSON data from each line and store in a list\n",
    "data = []\n",
    "for line in lines:\n",
    "    try:\n",
    "        json_object = json.loads(line)\n",
    "        data.append(json_object)\n",
    "    except json.JSONDecodeError:\n",
    "        # Handle decoding errors if needed\n",
    "        pass\n",
    "\n",
    "# Convert the data to a DataFrame if needed\n",
    "import pandas as pd\n",
    "\n",
    "df = pd.DataFrame(data)\n",
    "\n",
    "# Now you can work with the DataFrame 'df'\n",
    "\n"
   ]
  },
  {
   "cell_type": "code",
   "execution_count": 3,
   "id": "9f7530c6",
   "metadata": {},
   "outputs": [],
   "source": [
    "df_original=df.copy()"
   ]
  },
  {
   "cell_type": "code",
   "execution_count": 4,
   "id": "3de74ddd",
   "metadata": {},
   "outputs": [
    {
     "data": {
      "text/html": [
       "<div>\n",
       "<style scoped>\n",
       "    .dataframe tbody tr th:only-of-type {\n",
       "        vertical-align: middle;\n",
       "    }\n",
       "\n",
       "    .dataframe tbody tr th {\n",
       "        vertical-align: top;\n",
       "    }\n",
       "\n",
       "    .dataframe thead th {\n",
       "        text-align: right;\n",
       "    }\n",
       "</style>\n",
       "<table border=\"1\" class=\"dataframe\">\n",
       "  <thead>\n",
       "    <tr style=\"text-align: right;\">\n",
       "      <th></th>\n",
       "      <th>id</th>\n",
       "      <th>user_id</th>\n",
       "      <th>tags</th>\n",
       "      <th>intents</th>\n",
       "      <th>answer</th>\n",
       "    </tr>\n",
       "  </thead>\n",
       "  <tbody>\n",
       "    <tr>\n",
       "      <th>0</th>\n",
       "      <td>7544</td>\n",
       "      <td>4450</td>\n",
       "      <td>[pause, timescale]</td>\n",
       "      <td>[How can I pause my game?, What is the best wa...</td>\n",
       "      <td>In the Editor, you can just click the pause bu...</td>\n",
       "    </tr>\n",
       "    <tr>\n",
       "      <th>1</th>\n",
       "      <td>7561</td>\n",
       "      <td>3146</td>\n",
       "      <td>[iphone, upload, appstore]</td>\n",
       "      <td>[How do I upload my iPhone app to the app stor...</td>\n",
       "      <td>Log into Apple's developer portal and click th...</td>\n",
       "    </tr>\n",
       "    <tr>\n",
       "      <th>2</th>\n",
       "      <td>7572</td>\n",
       "      <td>142</td>\n",
       "      <td>[debug, debugger]</td>\n",
       "      <td>[Is there a way to attach a debugger to the co...</td>\n",
       "      <td>You can attach the debugger to the editor proc...</td>\n",
       "    </tr>\n",
       "    <tr>\n",
       "      <th>3</th>\n",
       "      <td>7599</td>\n",
       "      <td>1213</td>\n",
       "      <td>[editor, editor-launch-fail, editor-crash]</td>\n",
       "      <td>[Why project indefinitely loads when opened?, ...</td>\n",
       "      <td>To attempt to solve the editor crash, create a...</td>\n",
       "    </tr>\n",
       "    <tr>\n",
       "      <th>4</th>\n",
       "      <td>7626</td>\n",
       "      <td>2218</td>\n",
       "      <td>[animation, import, maya]</td>\n",
       "      <td>[How can I make animations snap to a frame in ...</td>\n",
       "      <td>Set the time of AnimationState of the relevant...</td>\n",
       "    </tr>\n",
       "  </tbody>\n",
       "</table>\n",
       "</div>"
      ],
      "text/plain": [
       "     id  user_id                                        tags  \\\n",
       "0  7544     4450                          [pause, timescale]   \n",
       "1  7561     3146                  [iphone, upload, appstore]   \n",
       "2  7572      142                           [debug, debugger]   \n",
       "3  7599     1213  [editor, editor-launch-fail, editor-crash]   \n",
       "4  7626     2218                   [animation, import, maya]   \n",
       "\n",
       "                                             intents  \\\n",
       "0  [How can I pause my game?, What is the best wa...   \n",
       "1  [How do I upload my iPhone app to the app stor...   \n",
       "2  [Is there a way to attach a debugger to the co...   \n",
       "3  [Why project indefinitely loads when opened?, ...   \n",
       "4  [How can I make animations snap to a frame in ...   \n",
       "\n",
       "                                              answer  \n",
       "0  In the Editor, you can just click the pause bu...  \n",
       "1  Log into Apple's developer portal and click th...  \n",
       "2  You can attach the debugger to the editor proc...  \n",
       "3  To attempt to solve the editor crash, create a...  \n",
       "4  Set the time of AnimationState of the relevant...  "
      ]
     },
     "execution_count": 4,
     "metadata": {},
     "output_type": "execute_result"
    }
   ],
   "source": [
    "df.head()"
   ]
  },
  {
   "cell_type": "code",
   "execution_count": 5,
   "id": "37ed1e47",
   "metadata": {
    "scrolled": false
   },
   "outputs": [
    {
     "data": {
      "text/plain": [
       "id          int64\n",
       "user_id     int64\n",
       "tags       object\n",
       "intents    object\n",
       "answer     object\n",
       "dtype: object"
      ]
     },
     "execution_count": 5,
     "metadata": {},
     "output_type": "execute_result"
    }
   ],
   "source": [
    "df.dtypes"
   ]
  },
  {
   "cell_type": "code",
   "execution_count": 6,
   "id": "0dc1dcf6",
   "metadata": {},
   "outputs": [
    {
     "data": {
      "text/plain": [
       "Index(['id', 'user_id', 'tags', 'intents', 'answer'], dtype='object')"
      ]
     },
     "execution_count": 6,
     "metadata": {},
     "output_type": "execute_result"
    }
   ],
   "source": [
    "df.columns"
   ]
  },
  {
   "cell_type": "markdown",
   "id": "90101e4d",
   "metadata": {},
   "source": [
    "# Data Validation and cleansing"
   ]
  },
  {
   "cell_type": "code",
   "execution_count": 7,
   "id": "ee512bc7",
   "metadata": {
    "scrolled": true
   },
   "outputs": [
    {
     "data": {
      "text/plain": [
       "<bound method Series.unique of 0                                [pause, timescale]\n",
       "1                        [iphone, upload, appstore]\n",
       "2                                 [debug, debugger]\n",
       "3        [editor, editor-launch-fail, editor-crash]\n",
       "4                         [animation, import, maya]\n",
       "                            ...                    \n",
       "12265                                       [array]\n",
       "12266              [editor, prefab, asset, preview]\n",
       "12267                        [editor, installation]\n",
       "12268          [c#, unity 5, array, startcoroutine]\n",
       "12269                             [vector graphics]\n",
       "Name: tags, Length: 12270, dtype: object>"
      ]
     },
     "execution_count": 7,
     "metadata": {},
     "output_type": "execute_result"
    }
   ],
   "source": [
    "df['tags'].unique"
   ]
  },
  {
   "cell_type": "code",
   "execution_count": 8,
   "id": "22320267",
   "metadata": {},
   "outputs": [
    {
     "data": {
      "text/plain": [
       "['iphone', 'upload', 'appstore']"
      ]
     },
     "execution_count": 8,
     "metadata": {},
     "output_type": "execute_result"
    }
   ],
   "source": [
    "df['tags'][1]"
   ]
  },
  {
   "cell_type": "code",
   "execution_count": 9,
   "id": "b5590352",
   "metadata": {},
   "outputs": [
    {
     "data": {
      "text/plain": [
       "['How do I upload my iPhone app to the app store?',\n",
       " 'I would like to upload my iPhone app to the App Store, but how do I do that?',\n",
       " 'What is the process for uploading an iPhone app to the App Store?',\n",
       " 'Can you tell me how I can upload my iPhone app to the Apple App Store?',\n",
       " 'What is the best way to upload my app to the iTunes store for my iPhone?',\n",
       " 'In order to upload my iPhone application to the app store, what steps should I take?',\n",
       " 'I would like to upload my iPhone app to the App Store, but I am not sure how to do it.',\n",
       " 'In order to have my iPhone app uploaded to the App Store, how do I do that?',\n",
       " 'Where can I upload my iPhone app to the app store so that users can download it?',\n",
       " 'If I want to upload my iPhone app to the iTunes store, what should I do?',\n",
       " 'Would you please tell me how to upload my iPhone app to the app store?']"
      ]
     },
     "execution_count": 9,
     "metadata": {},
     "output_type": "execute_result"
    }
   ],
   "source": [
    "df['intents'][1]"
   ]
  },
  {
   "cell_type": "code",
   "execution_count": 10,
   "id": "80f26b3f",
   "metadata": {
    "scrolled": true
   },
   "outputs": [
    {
     "data": {
      "text/html": [
       "<div>\n",
       "<style scoped>\n",
       "    .dataframe tbody tr th:only-of-type {\n",
       "        vertical-align: middle;\n",
       "    }\n",
       "\n",
       "    .dataframe tbody tr th {\n",
       "        vertical-align: top;\n",
       "    }\n",
       "\n",
       "    .dataframe thead th {\n",
       "        text-align: right;\n",
       "    }\n",
       "</style>\n",
       "<table border=\"1\" class=\"dataframe\">\n",
       "  <thead>\n",
       "    <tr style=\"text-align: right;\">\n",
       "      <th></th>\n",
       "      <th>tags</th>\n",
       "      <th>intents</th>\n",
       "      <th>answer</th>\n",
       "    </tr>\n",
       "  </thead>\n",
       "  <tbody>\n",
       "    <tr>\n",
       "      <th>0</th>\n",
       "      <td>[pause, timescale]</td>\n",
       "      <td>[How can I pause my game?, What is the best wa...</td>\n",
       "      <td>In the Editor, you can just click the pause bu...</td>\n",
       "    </tr>\n",
       "    <tr>\n",
       "      <th>1</th>\n",
       "      <td>[iphone, upload, appstore]</td>\n",
       "      <td>[How do I upload my iPhone app to the app stor...</td>\n",
       "      <td>Log into Apple's developer portal and click th...</td>\n",
       "    </tr>\n",
       "    <tr>\n",
       "      <th>2</th>\n",
       "      <td>[debug, debugger]</td>\n",
       "      <td>[Is there a way to attach a debugger to the co...</td>\n",
       "      <td>You can attach the debugger to the editor proc...</td>\n",
       "    </tr>\n",
       "    <tr>\n",
       "      <th>3</th>\n",
       "      <td>[editor, editor-launch-fail, editor-crash]</td>\n",
       "      <td>[Why project indefinitely loads when opened?, ...</td>\n",
       "      <td>To attempt to solve the editor crash, create a...</td>\n",
       "    </tr>\n",
       "    <tr>\n",
       "      <th>4</th>\n",
       "      <td>[animation, import, maya]</td>\n",
       "      <td>[How can I make animations snap to a frame in ...</td>\n",
       "      <td>Set the time of AnimationState of the relevant...</td>\n",
       "    </tr>\n",
       "  </tbody>\n",
       "</table>\n",
       "</div>"
      ],
      "text/plain": [
       "                                         tags  \\\n",
       "0                          [pause, timescale]   \n",
       "1                  [iphone, upload, appstore]   \n",
       "2                           [debug, debugger]   \n",
       "3  [editor, editor-launch-fail, editor-crash]   \n",
       "4                   [animation, import, maya]   \n",
       "\n",
       "                                             intents  \\\n",
       "0  [How can I pause my game?, What is the best wa...   \n",
       "1  [How do I upload my iPhone app to the app stor...   \n",
       "2  [Is there a way to attach a debugger to the co...   \n",
       "3  [Why project indefinitely loads when opened?, ...   \n",
       "4  [How can I make animations snap to a frame in ...   \n",
       "\n",
       "                                              answer  \n",
       "0  In the Editor, you can just click the pause bu...  \n",
       "1  Log into Apple's developer portal and click th...  \n",
       "2  You can attach the debugger to the editor proc...  \n",
       "3  To attempt to solve the editor crash, create a...  \n",
       "4  Set the time of AnimationState of the relevant...  "
      ]
     },
     "execution_count": 10,
     "metadata": {},
     "output_type": "execute_result"
    }
   ],
   "source": [
    "df.drop(columns=['id','user_id'],inplace=True)\n",
    "df.head()"
   ]
  },
  {
   "cell_type": "code",
   "execution_count": 12,
   "id": "da7de56b",
   "metadata": {},
   "outputs": [
    {
     "data": {
      "text/html": [
       "<div>\n",
       "<style scoped>\n",
       "    .dataframe tbody tr th:only-of-type {\n",
       "        vertical-align: middle;\n",
       "    }\n",
       "\n",
       "    .dataframe tbody tr th {\n",
       "        vertical-align: top;\n",
       "    }\n",
       "\n",
       "    .dataframe thead th {\n",
       "        text-align: right;\n",
       "    }\n",
       "</style>\n",
       "<table border=\"1\" class=\"dataframe\">\n",
       "  <thead>\n",
       "    <tr style=\"text-align: right;\">\n",
       "      <th></th>\n",
       "      <th>tags</th>\n",
       "      <th>intents</th>\n",
       "      <th>answer</th>\n",
       "    </tr>\n",
       "  </thead>\n",
       "  <tbody>\n",
       "    <tr>\n",
       "      <th>0</th>\n",
       "      <td>[pause, timescale]</td>\n",
       "      <td>How can I pause my game?</td>\n",
       "      <td>In the Editor, you can just click the pause bu...</td>\n",
       "    </tr>\n",
       "    <tr>\n",
       "      <th>0</th>\n",
       "      <td>[pause, timescale]</td>\n",
       "      <td>What is the best way to pause my game?</td>\n",
       "      <td>In the Editor, you can just click the pause bu...</td>\n",
       "    </tr>\n",
       "    <tr>\n",
       "      <th>0</th>\n",
       "      <td>[pause, timescale]</td>\n",
       "      <td>When I play a game, how do I pause it?</td>\n",
       "      <td>In the Editor, you can just click the pause bu...</td>\n",
       "    </tr>\n",
       "    <tr>\n",
       "      <th>0</th>\n",
       "      <td>[pause, timescale]</td>\n",
       "      <td>Could you please tell me how I can pause my game?</td>\n",
       "      <td>In the Editor, you can just click the pause bu...</td>\n",
       "    </tr>\n",
       "    <tr>\n",
       "      <th>0</th>\n",
       "      <td>[pause, timescale]</td>\n",
       "      <td>In order to pause my game, what should I do?</td>\n",
       "      <td>In the Editor, you can just click the pause bu...</td>\n",
       "    </tr>\n",
       "  </tbody>\n",
       "</table>\n",
       "</div>"
      ],
      "text/plain": [
       "                 tags                                            intents  \\\n",
       "0  [pause, timescale]                           How can I pause my game?   \n",
       "0  [pause, timescale]             What is the best way to pause my game?   \n",
       "0  [pause, timescale]             When I play a game, how do I pause it?   \n",
       "0  [pause, timescale]  Could you please tell me how I can pause my game?   \n",
       "0  [pause, timescale]       In order to pause my game, what should I do?   \n",
       "\n",
       "                                              answer  \n",
       "0  In the Editor, you can just click the pause bu...  \n",
       "0  In the Editor, you can just click the pause bu...  \n",
       "0  In the Editor, you can just click the pause bu...  \n",
       "0  In the Editor, you can just click the pause bu...  \n",
       "0  In the Editor, you can just click the pause bu...  "
      ]
     },
     "execution_count": 12,
     "metadata": {},
     "output_type": "execute_result"
    }
   ],
   "source": [
    "df_exploded = df.explode('intents')\n",
    "df_exploded.head()\n"
   ]
  },
  {
   "cell_type": "code",
   "execution_count": 14,
   "id": "359e794f",
   "metadata": {},
   "outputs": [
    {
     "data": {
      "text/plain": [
       "[]                                                          2674\n",
       "[c#]                                                        1787\n",
       "[scripting problem]                                          581\n",
       "[animation]                                                  566\n",
       "[unity 5]                                                    385\n",
       "                                                            ... \n",
       "[editor, serialization, collections]                           2\n",
       "[webrequest, encoding]                                         1\n",
       "[c#, pathfinding, offset, astar, nodes]                        1\n",
       "[error, array, list, gameobject.find, unexpected-symbol]       1\n",
       "[get, compare]                                                 1\n",
       "Name: tags, Length: 10042, dtype: int64"
      ]
     },
     "execution_count": 14,
     "metadata": {},
     "output_type": "execute_result"
    }
   ],
   "source": [
    "df_exploded['tags'].value_counts()"
   ]
  },
  {
   "cell_type": "code",
   "execution_count": 13,
   "id": "c9a3a908",
   "metadata": {
    "scrolled": false
   },
   "outputs": [
    {
     "data": {
      "text/plain": [
       "(134183, 3)"
      ]
     },
     "execution_count": 13,
     "metadata": {},
     "output_type": "execute_result"
    }
   ],
   "source": [
    "df_exploded.shape"
   ]
  },
  {
   "cell_type": "markdown",
   "id": "49b8c469",
   "metadata": {},
   "source": [
    "# Checking null values"
   ]
  },
  {
   "cell_type": "code",
   "execution_count": 16,
   "id": "113a488d",
   "metadata": {
    "scrolled": true
   },
   "outputs": [
    {
     "name": "stdout",
     "output_type": "stream",
     "text": [
      "Missing values:\n",
      " tags       0\n",
      "intents    0\n",
      "answer     0\n",
      "dtype: int64\n"
     ]
    }
   ],
   "source": [
    " # Check for missing values\n",
    "missing_values = df.isnull().sum()\n",
    "print(\"Missing values:\\n\", missing_values)\n"
   ]
  },
  {
   "cell_type": "markdown",
   "id": "8dd6f7a1",
   "metadata": {},
   "source": [
    "# Checking Duplicates"
   ]
  },
  {
   "cell_type": "code",
   "execution_count": 17,
   "id": "1ba6882f",
   "metadata": {
    "scrolled": true
   },
   "outputs": [
    {
     "data": {
      "text/plain": [
       "0"
      ]
     },
     "execution_count": 17,
     "metadata": {},
     "output_type": "execute_result"
    }
   ],
   "source": [
    "df_exploded['tags']=df_exploded['tags'].apply(lambda x : \",\".join(x))\n",
    "df_exploded.duplicated().sum()"
   ]
  },
  {
   "cell_type": "code",
   "execution_count": 18,
   "id": "65359e06",
   "metadata": {},
   "outputs": [
    {
     "data": {
      "text/plain": [
       "12268    c#,unity 5,array,startcoroutine\n",
       "12268    c#,unity 5,array,startcoroutine\n",
       "12268    c#,unity 5,array,startcoroutine\n",
       "12268    c#,unity 5,array,startcoroutine\n",
       "12268    c#,unity 5,array,startcoroutine\n",
       "12268    c#,unity 5,array,startcoroutine\n",
       "12268    c#,unity 5,array,startcoroutine\n",
       "12268    c#,unity 5,array,startcoroutine\n",
       "12268    c#,unity 5,array,startcoroutine\n",
       "12269                    vector graphics\n",
       "12269                    vector graphics\n",
       "12269                    vector graphics\n",
       "12269                    vector graphics\n",
       "12269                    vector graphics\n",
       "12269                    vector graphics\n",
       "12269                    vector graphics\n",
       "12269                    vector graphics\n",
       "12269                    vector graphics\n",
       "12269                    vector graphics\n",
       "12269                    vector graphics\n",
       "Name: tags, dtype: object"
      ]
     },
     "execution_count": 18,
     "metadata": {},
     "output_type": "execute_result"
    }
   ],
   "source": [
    "df_exploded['tags'].tail(20)"
   ]
  },
  {
   "cell_type": "code",
   "execution_count": 19,
   "id": "ad0e1dbf",
   "metadata": {
    "scrolled": true
   },
   "outputs": [
    {
     "data": {
      "text/plain": [
       "10042"
      ]
     },
     "execution_count": 19,
     "metadata": {},
     "output_type": "execute_result"
    }
   ],
   "source": [
    "df_exploded['tags'].nunique(20)\n"
   ]
  },
  {
   "cell_type": "code",
   "execution_count": 20,
   "id": "369254fa",
   "metadata": {},
   "outputs": [
    {
     "data": {
      "text/plain": [
       "(134183, 3)"
      ]
     },
     "execution_count": 20,
     "metadata": {},
     "output_type": "execute_result"
    }
   ],
   "source": [
    "df_exploded.shape"
   ]
  },
  {
   "cell_type": "code",
   "execution_count": 21,
   "id": "1a13fbe7",
   "metadata": {},
   "outputs": [
    {
     "data": {
      "text/plain": [
       "(1073, 3)"
      ]
     },
     "execution_count": 21,
     "metadata": {},
     "output_type": "execute_result"
    }
   ],
   "source": [
    "df_exploded = df_exploded.sample(frac=0.008, random_state=42)\n",
    "df_exploded.shape\n"
   ]
  },
  {
   "cell_type": "markdown",
   "id": "c8bbf15f",
   "metadata": {},
   "source": [
    "# Preprocessing Data"
   ]
  },
  {
   "cell_type": "code",
   "execution_count": 22,
   "id": "1983162e",
   "metadata": {},
   "outputs": [
    {
     "data": {
      "text/html": [
       "<div>\n",
       "<style scoped>\n",
       "    .dataframe tbody tr th:only-of-type {\n",
       "        vertical-align: middle;\n",
       "    }\n",
       "\n",
       "    .dataframe tbody tr th {\n",
       "        vertical-align: top;\n",
       "    }\n",
       "\n",
       "    .dataframe thead th {\n",
       "        text-align: right;\n",
       "    }\n",
       "</style>\n",
       "<table border=\"1\" class=\"dataframe\">\n",
       "  <thead>\n",
       "    <tr style=\"text-align: right;\">\n",
       "      <th></th>\n",
       "      <th>tags</th>\n",
       "      <th>intents</th>\n",
       "      <th>answer</th>\n",
       "    </tr>\n",
       "  </thead>\n",
       "  <tbody>\n",
       "    <tr>\n",
       "      <th>1541</th>\n",
       "      <td>raycasting,layermask,guiwindow</td>\n",
       "      <td>It is possible to make more than one informati...</td>\n",
       "      <td>Make multiple GUI elements.</td>\n",
       "    </tr>\n",
       "    <tr>\n",
       "      <th>10552</th>\n",
       "      <td>c#</td>\n",
       "      <td>How can I integrate Discord Rich Presence into...</td>\n",
       "      <td>Add a script tag to your page.</td>\n",
       "    </tr>\n",
       "    <tr>\n",
       "      <th>111</th>\n",
       "      <td>car,control</td>\n",
       "      <td>In order to make my car accelerate more gradua...</td>\n",
       "      <td>Try lowering Torque property of the car.</td>\n",
       "    </tr>\n",
       "    <tr>\n",
       "      <th>10395</th>\n",
       "      <td>mesh,procedural mesh,mesh vertices</td>\n",
       "      <td>Is there a reason why my lighting is uneven wh...</td>\n",
       "      <td>The vertices are not perfectly aligned</td>\n",
       "    </tr>\n",
       "    <tr>\n",
       "      <th>4290</th>\n",
       "      <td>animation</td>\n",
       "      <td>What do you need to do in order for Unity to k...</td>\n",
       "      <td>Use the [Animation Events](http://docs.unity3d...</td>\n",
       "    </tr>\n",
       "  </tbody>\n",
       "</table>\n",
       "</div>"
      ],
      "text/plain": [
       "                                     tags  \\\n",
       "1541       raycasting,layermask,guiwindow   \n",
       "10552                                  c#   \n",
       "111                           car,control   \n",
       "10395  mesh,procedural mesh,mesh vertices   \n",
       "4290                            animation   \n",
       "\n",
       "                                                 intents  \\\n",
       "1541   It is possible to make more than one informati...   \n",
       "10552  How can I integrate Discord Rich Presence into...   \n",
       "111    In order to make my car accelerate more gradua...   \n",
       "10395  Is there a reason why my lighting is uneven wh...   \n",
       "4290   What do you need to do in order for Unity to k...   \n",
       "\n",
       "                                                  answer  \n",
       "1541                         Make multiple GUI elements.  \n",
       "10552                     Add a script tag to your page.  \n",
       "111             Try lowering Torque property of the car.  \n",
       "10395             The vertices are not perfectly aligned  \n",
       "4290   Use the [Animation Events](http://docs.unity3d...  "
      ]
     },
     "execution_count": 22,
     "metadata": {},
     "output_type": "execute_result"
    }
   ],
   "source": [
    "df_exploded.head()"
   ]
  },
  {
   "cell_type": "code",
   "execution_count": 23,
   "id": "8ebec08a",
   "metadata": {},
   "outputs": [],
   "source": [
    "import re  # Import the 're' module for regular expressions\n"
   ]
  },
  {
   "cell_type": "code",
   "execution_count": 22,
   "id": "1768ebe5",
   "metadata": {},
   "outputs": [],
   "source": [
    "# Convert 'tags' column to string representation\n",
    "# df_exploded['tags'] = df_exploded['tags'].apply(lambda tags: ','.join(tags))"
   ]
  },
  {
   "cell_type": "markdown",
   "id": "cf254b22",
   "metadata": {},
   "source": [
    "# Basic Preprocessing"
   ]
  },
  {
   "cell_type": "code",
   "execution_count": 24,
   "id": "63bdc7ad",
   "metadata": {
    "scrolled": true
   },
   "outputs": [
    {
     "name": "stdout",
     "output_type": "stream",
     "text": [
      "                                     tags  \\\n",
      "1541       raycasting,layermask,guiwindow   \n",
      "10552                                  c#   \n",
      "111                           car,control   \n",
      "10395  mesh,procedural mesh,mesh vertices   \n",
      "4290                            animation   \n",
      "...                                   ...   \n",
      "9645   gameobject,raycast,assign-variable   \n",
      "9325                 animation,mathf.lerp   \n",
      "2975                      time,simulation   \n",
      "12209         collision,component,disable   \n",
      "11876    access,permissions,function call   \n",
      "\n",
      "                                                 intents  \\\n",
      "1541   It is possible to make more than one informati...   \n",
      "10552  How can I integrate Discord Rich Presence into...   \n",
      "111    In order to make my car accelerate more gradua...   \n",
      "10395  Is there a reason why my lighting is uneven wh...   \n",
      "4290   What do you need to do in order for Unity to k...   \n",
      "...                                                  ...   \n",
      "9645   If you want to assign a game object to a varia...   \n",
      "9325   Would it be possible to just lerp between two ...   \n",
      "2975      In what way does Unity manage time scheduling?   \n",
      "12209  What is the best method for disabling collisio...   \n",
      "11876  Do you know if there is a way to restrict some...   \n",
      "\n",
      "                                                  answer  \\\n",
      "1541                         make multiple gui elements.   \n",
      "10552                     add a script tag to your page.   \n",
      "111             try lowering torque property of the car.   \n",
      "10395             the vertices are not perfectly aligned   \n",
      "4290   use the [animation events](http://docs..com/do...   \n",
      "...                                                  ...   \n",
      "9645   gameobject objectthatwashit = hit.transform.ge...   \n",
      "9325                                        use mecanim.   \n",
      "2975   physics runs in a fixed time step, so this run...   \n",
      "12209                           collider.enabled = true;   \n",
      "11876                              use access modifiers.   \n",
      "\n",
      "                                                question  \n",
      "1541   it is possible to make more than one informati...  \n",
      "10552  how can i integrate discord rich presence into...  \n",
      "111    in order to make my car accelerate more gradua...  \n",
      "10395  is there a reason why my lighting is uneven wh...  \n",
      "4290   what do you need to do in order for unity to k...  \n",
      "...                                                  ...  \n",
      "9645   if you want to assign a game object to a varia...  \n",
      "9325   would it be possible to just lerp between two ...  \n",
      "2975      in what way does unity manage time scheduling?  \n",
      "12209  what is the best method for disabling collisio...  \n",
      "11876  do you know if there is a way to restrict some...  \n",
      "\n",
      "[1073 rows x 4 columns]\n"
     ]
    }
   ],
   "source": [
    "import pandas as pd\n",
    "import re\n",
    "\n",
    "def preprocessing_pipeline(text: str, keep_code=False, keep_user=False) -> str:\n",
    "    code_token = '[CODE]' if keep_code else ''\n",
    "    user_token = '[USER]' if keep_user else ''\n",
    "    \n",
    "    steps = [\n",
    "        lambda text: text.lower(),\n",
    "        lambda text: re.sub(r'\\{[^}]*\\}', f' {code_token} ', text),\n",
    "        lambda text: re.sub(r'@[\\w_]+', f' {user_token} ', text),\n",
    "        lambda text: re.sub(r'#(\\w+)', r'\\1', text),\n",
    "        lambda text: re.sub(r'[\\n\\r\\t]', ' ', text),\n",
    "        lambda text: re.sub(r'[!\"#$%&\\'()*+,-./:;<=>?@[\\\\]^_`{|}~]', ' ', text),\n",
    "        lambda text: re.sub(r'[^\\x00-\\x7F]+', ' ', text),\n",
    "        lambda text: re.sub(r'\\w*\\d\\w*', '', text),\n",
    "        lambda text: re.sub(r'\\s+', ' ', text),\n",
    "        lambda text: text.strip()\n",
    "    ]\n",
    "    \n",
    "    for step in steps:\n",
    "        text = step(text)\n",
    "        \n",
    "    return text\n",
    "\n",
    "\n",
    "\n",
    "# Apply the preprocessing pipeline\n",
    "df_exploded['question'] = df_exploded['intents'].apply(preprocessing_pipeline)\n",
    "df_exploded['answer'] = df_exploded['answer'].apply(preprocessing_pipeline)\n",
    "\n",
    "print(df_exploded)\n"
   ]
  },
  {
   "cell_type": "code",
   "execution_count": 25,
   "id": "c979ff15",
   "metadata": {
    "scrolled": true
   },
   "outputs": [
    {
     "data": {
      "text/html": [
       "<div>\n",
       "<style scoped>\n",
       "    .dataframe tbody tr th:only-of-type {\n",
       "        vertical-align: middle;\n",
       "    }\n",
       "\n",
       "    .dataframe tbody tr th {\n",
       "        vertical-align: top;\n",
       "    }\n",
       "\n",
       "    .dataframe thead th {\n",
       "        text-align: right;\n",
       "    }\n",
       "</style>\n",
       "<table border=\"1\" class=\"dataframe\">\n",
       "  <thead>\n",
       "    <tr style=\"text-align: right;\">\n",
       "      <th></th>\n",
       "      <th>tags</th>\n",
       "      <th>intents</th>\n",
       "      <th>answer</th>\n",
       "      <th>question</th>\n",
       "    </tr>\n",
       "  </thead>\n",
       "  <tbody>\n",
       "    <tr>\n",
       "      <th>1541</th>\n",
       "      <td>raycasting,layermask,guiwindow</td>\n",
       "      <td>It is possible to make more than one informati...</td>\n",
       "      <td>make multiple gui elements.</td>\n",
       "      <td>it is possible to make more than one informati...</td>\n",
       "    </tr>\n",
       "    <tr>\n",
       "      <th>10552</th>\n",
       "      <td>c#</td>\n",
       "      <td>How can I integrate Discord Rich Presence into...</td>\n",
       "      <td>add a script tag to your page.</td>\n",
       "      <td>how can i integrate discord rich presence into...</td>\n",
       "    </tr>\n",
       "    <tr>\n",
       "      <th>111</th>\n",
       "      <td>car,control</td>\n",
       "      <td>In order to make my car accelerate more gradua...</td>\n",
       "      <td>try lowering torque property of the car.</td>\n",
       "      <td>in order to make my car accelerate more gradua...</td>\n",
       "    </tr>\n",
       "    <tr>\n",
       "      <th>10395</th>\n",
       "      <td>mesh,procedural mesh,mesh vertices</td>\n",
       "      <td>Is there a reason why my lighting is uneven wh...</td>\n",
       "      <td>the vertices are not perfectly aligned</td>\n",
       "      <td>is there a reason why my lighting is uneven wh...</td>\n",
       "    </tr>\n",
       "    <tr>\n",
       "      <th>4290</th>\n",
       "      <td>animation</td>\n",
       "      <td>What do you need to do in order for Unity to k...</td>\n",
       "      <td>use the [animation events](http://docs..com/do...</td>\n",
       "      <td>what do you need to do in order for unity to k...</td>\n",
       "    </tr>\n",
       "  </tbody>\n",
       "</table>\n",
       "</div>"
      ],
      "text/plain": [
       "                                     tags  \\\n",
       "1541       raycasting,layermask,guiwindow   \n",
       "10552                                  c#   \n",
       "111                           car,control   \n",
       "10395  mesh,procedural mesh,mesh vertices   \n",
       "4290                            animation   \n",
       "\n",
       "                                                 intents  \\\n",
       "1541   It is possible to make more than one informati...   \n",
       "10552  How can I integrate Discord Rich Presence into...   \n",
       "111    In order to make my car accelerate more gradua...   \n",
       "10395  Is there a reason why my lighting is uneven wh...   \n",
       "4290   What do you need to do in order for Unity to k...   \n",
       "\n",
       "                                                  answer  \\\n",
       "1541                         make multiple gui elements.   \n",
       "10552                     add a script tag to your page.   \n",
       "111             try lowering torque property of the car.   \n",
       "10395             the vertices are not perfectly aligned   \n",
       "4290   use the [animation events](http://docs..com/do...   \n",
       "\n",
       "                                                question  \n",
       "1541   it is possible to make more than one informati...  \n",
       "10552  how can i integrate discord rich presence into...  \n",
       "111    in order to make my car accelerate more gradua...  \n",
       "10395  is there a reason why my lighting is uneven wh...  \n",
       "4290   what do you need to do in order for unity to k...  "
      ]
     },
     "execution_count": 25,
     "metadata": {},
     "output_type": "execute_result"
    }
   ],
   "source": [
    "df_exploded.head()"
   ]
  },
  {
   "cell_type": "code",
   "execution_count": 26,
   "id": "2412f240",
   "metadata": {},
   "outputs": [],
   "source": [
    "df_exploded.drop(columns='intents',axis=1,inplace=True)"
   ]
  },
  {
   "cell_type": "markdown",
   "id": "a0d46a42",
   "metadata": {},
   "source": [
    "# Visualizing Relationships"
   ]
  },
  {
   "cell_type": "markdown",
   "id": "e289e5b3",
   "metadata": {},
   "source": [
    "## Plotting top 10 most frequently used tags"
   ]
  },
  {
   "cell_type": "code",
   "execution_count": 27,
   "id": "497d22a7",
   "metadata": {},
   "outputs": [
    {
     "data": {
      "image/png": "[encoded data removed]",
      "text/plain": [
       "<Figure size 720x432 with 1 Axes>"
      ]
     },
     "metadata": {
      "needs_background": "light"
     },
     "output_type": "display_data"
    }
   ],
   "source": [
    "# Plot top N frequent words in tags\n",
    "top_words = 10\n",
    "tags_words = ' '.join(df_exploded['tags']).split()\n",
    "word_counts = pd.Series(tags_words).value_counts().head(top_words)\n",
    "plt.figure(figsize=(10, 6))\n",
    "sns.barplot(x=word_counts.values, y=word_counts.index)\n",
    "plt.title(f'Top {top_words} Frequent Words in Tags')\n",
    "plt.xlabel('Frequency')\n",
    "plt.ylabel('Word')\n",
    "plt.show()\n"
   ]
  },
  {
   "cell_type": "code",
   "execution_count": 27,
   "id": "c68e31e4",
   "metadata": {},
   "outputs": [],
   "source": [
    "# df['answer_length'] = df_exploded['answer'].apply(len)\n",
    "# correlation_matrix = df_exploded[['intent_length', 'answer_length', 'tags']].corr()\n",
    "# plt.figure(figsize=(8, 6))\n",
    "# sns.heatmap(correlation_matrix, annot=True, cmap='coolwarm', center=0)\n",
    "# plt.title('Correlation Heatmap')\n",
    "# plt.show()\n"
   ]
  },
  {
   "cell_type": "code",
   "execution_count": 28,
   "id": "72c4acba",
   "metadata": {},
   "outputs": [
    {
     "name": "stdout",
     "output_type": "stream",
     "text": [
      "Collecting wordcloud\n",
      "  Using cached wordcloud-1.9.2.tar.gz (222 kB)\n",
      "  Preparing metadata (setup.py) ... \u001b[?25ldone\n",
      "\u001b[?25hRequirement already satisfied: numpy>=1.6.1 in /Users/sandippoudel/tensoflow-test/env/lib/python3.10/site-packages (from wordcloud) (1.22.4)\n",
      "Requirement already satisfied: pillow in /Users/sandippoudel/tensoflow-test/env/lib/python3.10/site-packages (from wordcloud) (9.1.1)\n",
      "Requirement already satisfied: matplotlib in /Users/sandippoudel/tensoflow-test/env/lib/python3.10/site-packages (from wordcloud) (3.5.2)\n",
      "Requirement already satisfied: python-dateutil>=2.7 in /Users/sandippoudel/tensoflow-test/env/lib/python3.10/site-packages (from matplotlib->wordcloud) (2.8.2)\n",
      "Requirement already satisfied: kiwisolver>=1.0.1 in /Users/sandippoudel/tensoflow-test/env/lib/python3.10/site-packages (from matplotlib->wordcloud) (1.4.3)\n",
      "Requirement already satisfied: fonttools>=4.22.0 in /Users/sandippoudel/tensoflow-test/env/lib/python3.10/site-packages (from matplotlib->wordcloud) (4.33.3)\n",
      "Requirement already satisfied: packaging>=20.0 in /Users/sandippoudel/tensoflow-test/env/lib/python3.10/site-packages (from matplotlib->wordcloud) (21.3)\n",
      "Requirement already satisfied: pyparsing>=2.2.1 in /Users/sandippoudel/tensoflow-test/env/lib/python3.10/site-packages (from matplotlib->wordcloud) (3.0.9)\n",
      "Requirement already satisfied: cycler>=0.10 in /Users/sandippoudel/tensoflow-test/env/lib/python3.10/site-packages (from matplotlib->wordcloud) (0.11.0)\n",
      "Requirement already satisfied: six>=1.5 in /Users/sandippoudel/tensoflow-test/env/lib/python3.10/site-packages (from python-dateutil>=2.7->matplotlib->wordcloud) (1.15.0)\n",
      "Building wheels for collected packages: wordcloud\n",
      "  Building wheel for wordcloud (setup.py) ... \u001b[?25ldone\n",
      "\u001b[?25h  Created wheel for wordcloud: filename=wordcloud-1.9.2-cp310-cp310-macosx_11_0_arm64.whl size=152557 sha256=90d46dab9f72ff8b619dd4f3549e2880b4f87ddaa2943687eb85fb69b41e4c5c\n",
      "  Stored in directory: /Users/sandippoudel/Library/Caches/pip/wheels/56/72/cc/86d8dbd1e3a8ef5470177cf6a4d25ec3cbebac55402e0ff4f0\n",
      "Successfully built wordcloud\n",
      "Installing collected packages: wordcloud\n",
      "Successfully installed wordcloud-1.9.2\n",
      "Note: you may need to restart the kernel to use updated packages.\n"
     ]
    }
   ],
   "source": [
    "pip install wordcloud"
   ]
  },
  {
   "cell_type": "markdown",
   "id": "ef40e488",
   "metadata": {},
   "source": [
    "# Visualizing high frequency words in all the three columns"
   ]
  },
  {
   "cell_type": "code",
   "execution_count": 29,
   "id": "f9886f45",
   "metadata": {},
   "outputs": [
    {
     "data": {
      "text/html": [
       "<div>\n",
       "<style scoped>\n",
       "    .dataframe tbody tr th:only-of-type {\n",
       "        vertical-align: middle;\n",
       "    }\n",
       "\n",
       "    .dataframe tbody tr th {\n",
       "        vertical-align: top;\n",
       "    }\n",
       "\n",
       "    .dataframe thead th {\n",
       "        text-align: right;\n",
       "    }\n",
       "</style>\n",
       "<table border=\"1\" class=\"dataframe\">\n",
       "  <thead>\n",
       "    <tr style=\"text-align: right;\">\n",
       "      <th></th>\n",
       "      <th>tags</th>\n",
       "      <th>answer</th>\n",
       "      <th>question</th>\n",
       "    </tr>\n",
       "  </thead>\n",
       "  <tbody>\n",
       "    <tr>\n",
       "      <th>1541</th>\n",
       "      <td>raycasting,layermask,guiwindow</td>\n",
       "      <td>make multiple gui elements.</td>\n",
       "      <td>it is possible to make more than one informati...</td>\n",
       "    </tr>\n",
       "    <tr>\n",
       "      <th>10552</th>\n",
       "      <td>c#</td>\n",
       "      <td>add a script tag to your page.</td>\n",
       "      <td>how can i integrate discord rich presence into...</td>\n",
       "    </tr>\n",
       "    <tr>\n",
       "      <th>111</th>\n",
       "      <td>car,control</td>\n",
       "      <td>try lowering torque property of the car.</td>\n",
       "      <td>in order to make my car accelerate more gradua...</td>\n",
       "    </tr>\n",
       "    <tr>\n",
       "      <th>10395</th>\n",
       "      <td>mesh,procedural mesh,mesh vertices</td>\n",
       "      <td>the vertices are not perfectly aligned</td>\n",
       "      <td>is there a reason why my lighting is uneven wh...</td>\n",
       "    </tr>\n",
       "    <tr>\n",
       "      <th>4290</th>\n",
       "      <td>animation</td>\n",
       "      <td>use the [animation events](http://docs..com/do...</td>\n",
       "      <td>what do you need to do in order for unity to k...</td>\n",
       "    </tr>\n",
       "  </tbody>\n",
       "</table>\n",
       "</div>"
      ],
      "text/plain": [
       "                                     tags  \\\n",
       "1541       raycasting,layermask,guiwindow   \n",
       "10552                                  c#   \n",
       "111                           car,control   \n",
       "10395  mesh,procedural mesh,mesh vertices   \n",
       "4290                            animation   \n",
       "\n",
       "                                                  answer  \\\n",
       "1541                         make multiple gui elements.   \n",
       "10552                     add a script tag to your page.   \n",
       "111             try lowering torque property of the car.   \n",
       "10395             the vertices are not perfectly aligned   \n",
       "4290   use the [animation events](http://docs..com/do...   \n",
       "\n",
       "                                                question  \n",
       "1541   it is possible to make more than one informati...  \n",
       "10552  how can i integrate discord rich presence into...  \n",
       "111    in order to make my car accelerate more gradua...  \n",
       "10395  is there a reason why my lighting is uneven wh...  \n",
       "4290   what do you need to do in order for unity to k...  "
      ]
     },
     "execution_count": 29,
     "metadata": {},
     "output_type": "execute_result"
    }
   ],
   "source": [
    "df_exploded.head()"
   ]
  },
  {
   "cell_type": "code",
   "execution_count": 32,
   "id": "794443bd",
   "metadata": {},
   "outputs": [
    {
     "ename": "ValueError",
     "evalue": "Only supported for TrueType fonts",
     "output_type": "error",
     "traceback": [
      "\u001b[0;31m---------------------------------------------------------------------------\u001b[0m",
      "\u001b[0;31mValueError\u001b[0m                                Traceback (most recent call last)",
      "Input \u001b[0;32mIn [32]\u001b[0m, in \u001b[0;36m<cell line: 8>\u001b[0;34m()\u001b[0m\n\u001b[1;32m      5\u001b[0m font_path \u001b[38;5;241m=\u001b[39m \u001b[38;5;124m'\u001b[39m\u001b[38;5;124mRoboto-Regular.ttf\u001b[39m\u001b[38;5;124m'\u001b[39m\n\u001b[1;32m      7\u001b[0m \u001b[38;5;66;03m# Create word clouds for 'intents' and 'answer' columns\u001b[39;00m\n\u001b[0;32m----> 8\u001b[0m wordcloud_intents \u001b[38;5;241m=\u001b[39m \u001b[43mWordCloud\u001b[49m\u001b[43m(\u001b[49m\u001b[43mwidth\u001b[49m\u001b[38;5;241;43m=\u001b[39;49m\u001b[38;5;241;43m800\u001b[39;49m\u001b[43m,\u001b[49m\u001b[43m \u001b[49m\u001b[43mheight\u001b[49m\u001b[38;5;241;43m=\u001b[39;49m\u001b[38;5;241;43m400\u001b[39;49m\u001b[43m,\u001b[49m\u001b[43m \u001b[49m\u001b[43mbackground_color\u001b[49m\u001b[38;5;241;43m=\u001b[39;49m\u001b[38;5;124;43m'\u001b[39;49m\u001b[38;5;124;43mwhite\u001b[39;49m\u001b[38;5;124;43m'\u001b[39;49m\u001b[43m,\u001b[49m\u001b[43mfont_path\u001b[49m\u001b[38;5;241;43m=\u001b[39;49m\u001b[43mfont_path\u001b[49m\u001b[43m)\u001b[49m\u001b[38;5;241;43m.\u001b[39;49m\u001b[43mgenerate\u001b[49m\u001b[43m(\u001b[49m\u001b[38;5;124;43m'\u001b[39;49m\u001b[38;5;124;43m \u001b[39;49m\u001b[38;5;124;43m'\u001b[39;49m\u001b[38;5;241;43m.\u001b[39;49m\u001b[43mjoin\u001b[49m\u001b[43m(\u001b[49m\u001b[43mdf_exploded\u001b[49m\u001b[43m[\u001b[49m\u001b[38;5;124;43m'\u001b[39;49m\u001b[38;5;124;43mquestion\u001b[39;49m\u001b[38;5;124;43m'\u001b[39;49m\u001b[43m]\u001b[49m\u001b[43m)\u001b[49m\u001b[43m)\u001b[49m\n\u001b[1;32m      9\u001b[0m wordcloud_answers \u001b[38;5;241m=\u001b[39m WordCloud(width\u001b[38;5;241m=\u001b[39m\u001b[38;5;241m800\u001b[39m, height\u001b[38;5;241m=\u001b[39m\u001b[38;5;241m400\u001b[39m, background_color\u001b[38;5;241m=\u001b[39m\u001b[38;5;124m'\u001b[39m\u001b[38;5;124mwhite\u001b[39m\u001b[38;5;124m'\u001b[39m,font_path\u001b[38;5;241m=\u001b[39mfont_path)\u001b[38;5;241m.\u001b[39mgenerate(\u001b[38;5;124m'\u001b[39m\u001b[38;5;124m \u001b[39m\u001b[38;5;124m'\u001b[39m\u001b[38;5;241m.\u001b[39mjoin(df_exploded[\u001b[38;5;124m'\u001b[39m\u001b[38;5;124manswer\u001b[39m\u001b[38;5;124m'\u001b[39m]))\n\u001b[1;32m     11\u001b[0m \u001b[38;5;66;03m# Create word cloud for 'tags' column\u001b[39;00m\n",
      "File \u001b[0;32m~/tensoflow-test/env/lib/python3.10/site-packages/wordcloud/wordcloud.py:639\u001b[0m, in \u001b[0;36mWordCloud.generate\u001b[0;34m(self, text)\u001b[0m\n\u001b[1;32m    624\u001b[0m \u001b[38;5;28;01mdef\u001b[39;00m \u001b[38;5;21mgenerate\u001b[39m(\u001b[38;5;28mself\u001b[39m, text):\n\u001b[1;32m    625\u001b[0m     \u001b[38;5;124;03m\"\"\"Generate wordcloud from text.\u001b[39;00m\n\u001b[1;32m    626\u001b[0m \n\u001b[1;32m    627\u001b[0m \u001b[38;5;124;03m    The input \"text\" is expected to be a natural text. If you pass a sorted\u001b[39;00m\n\u001b[0;32m   (...)\u001b[0m\n\u001b[1;32m    637\u001b[0m \u001b[38;5;124;03m    self\u001b[39;00m\n\u001b[1;32m    638\u001b[0m \u001b[38;5;124;03m    \"\"\"\u001b[39;00m\n\u001b[0;32m--> 639\u001b[0m     \u001b[38;5;28;01mreturn\u001b[39;00m \u001b[38;5;28;43mself\u001b[39;49m\u001b[38;5;241;43m.\u001b[39;49m\u001b[43mgenerate_from_text\u001b[49m\u001b[43m(\u001b[49m\u001b[43mtext\u001b[49m\u001b[43m)\u001b[49m\n",
      "File \u001b[0;32m~/tensoflow-test/env/lib/python3.10/site-packages/wordcloud/wordcloud.py:621\u001b[0m, in \u001b[0;36mWordCloud.generate_from_text\u001b[0;34m(self, text)\u001b[0m\n\u001b[1;32m    604\u001b[0m \u001b[38;5;124;03m\"\"\"Generate wordcloud from text.\u001b[39;00m\n\u001b[1;32m    605\u001b[0m \n\u001b[1;32m    606\u001b[0m \u001b[38;5;124;03mThe input \"text\" is expected to be a natural text. If you pass a sorted\u001b[39;00m\n\u001b[0;32m   (...)\u001b[0m\n\u001b[1;32m    618\u001b[0m \u001b[38;5;124;03mself\u001b[39;00m\n\u001b[1;32m    619\u001b[0m \u001b[38;5;124;03m\"\"\"\u001b[39;00m\n\u001b[1;32m    620\u001b[0m words \u001b[38;5;241m=\u001b[39m \u001b[38;5;28mself\u001b[39m\u001b[38;5;241m.\u001b[39mprocess_text(text)\n\u001b[0;32m--> 621\u001b[0m \u001b[38;5;28;43mself\u001b[39;49m\u001b[38;5;241;43m.\u001b[39;49m\u001b[43mgenerate_from_frequencies\u001b[49m\u001b[43m(\u001b[49m\u001b[43mwords\u001b[49m\u001b[43m)\u001b[49m\n\u001b[1;32m    622\u001b[0m \u001b[38;5;28;01mreturn\u001b[39;00m \u001b[38;5;28mself\u001b[39m\n",
      "File \u001b[0;32m~/tensoflow-test/env/lib/python3.10/site-packages/wordcloud/wordcloud.py:453\u001b[0m, in \u001b[0;36mWordCloud.generate_from_frequencies\u001b[0;34m(self, frequencies, max_font_size)\u001b[0m\n\u001b[1;32m    451\u001b[0m     font_size \u001b[38;5;241m=\u001b[39m \u001b[38;5;28mself\u001b[39m\u001b[38;5;241m.\u001b[39mheight\n\u001b[1;32m    452\u001b[0m \u001b[38;5;28;01melse\u001b[39;00m:\n\u001b[0;32m--> 453\u001b[0m     \u001b[38;5;28;43mself\u001b[39;49m\u001b[38;5;241;43m.\u001b[39;49m\u001b[43mgenerate_from_frequencies\u001b[49m\u001b[43m(\u001b[49m\u001b[38;5;28;43mdict\u001b[39;49m\u001b[43m(\u001b[49m\u001b[43mfrequencies\u001b[49m\u001b[43m[\u001b[49m\u001b[43m:\u001b[49m\u001b[38;5;241;43m2\u001b[39;49m\u001b[43m]\u001b[49m\u001b[43m)\u001b[49m\u001b[43m,\u001b[49m\n\u001b[1;32m    454\u001b[0m \u001b[43m                                   \u001b[49m\u001b[43mmax_font_size\u001b[49m\u001b[38;5;241;43m=\u001b[39;49m\u001b[38;5;28;43mself\u001b[39;49m\u001b[38;5;241;43m.\u001b[39;49m\u001b[43mheight\u001b[49m\u001b[43m)\u001b[49m\n\u001b[1;32m    455\u001b[0m     \u001b[38;5;66;03m# find font sizes\u001b[39;00m\n\u001b[1;32m    456\u001b[0m     sizes \u001b[38;5;241m=\u001b[39m [x[\u001b[38;5;241m1\u001b[39m] \u001b[38;5;28;01mfor\u001b[39;00m x \u001b[38;5;129;01min\u001b[39;00m \u001b[38;5;28mself\u001b[39m\u001b[38;5;241m.\u001b[39mlayout_]\n",
      "File \u001b[0;32m~/tensoflow-test/env/lib/python3.10/site-packages/wordcloud/wordcloud.py:508\u001b[0m, in \u001b[0;36mWordCloud.generate_from_frequencies\u001b[0;34m(self, frequencies, max_font_size)\u001b[0m\n\u001b[1;32m    505\u001b[0m transposed_font \u001b[38;5;241m=\u001b[39m ImageFont\u001b[38;5;241m.\u001b[39mTransposedFont(\n\u001b[1;32m    506\u001b[0m     font, orientation\u001b[38;5;241m=\u001b[39morientation)\n\u001b[1;32m    507\u001b[0m \u001b[38;5;66;03m# get size of resulting text\u001b[39;00m\n\u001b[0;32m--> 508\u001b[0m box_size \u001b[38;5;241m=\u001b[39m \u001b[43mdraw\u001b[49m\u001b[38;5;241;43m.\u001b[39;49m\u001b[43mtextbbox\u001b[49m\u001b[43m(\u001b[49m\u001b[43m(\u001b[49m\u001b[38;5;241;43m0\u001b[39;49m\u001b[43m,\u001b[49m\u001b[43m \u001b[49m\u001b[38;5;241;43m0\u001b[39;49m\u001b[43m)\u001b[49m\u001b[43m,\u001b[49m\u001b[43m \u001b[49m\u001b[43mword\u001b[49m\u001b[43m,\u001b[49m\u001b[43m \u001b[49m\u001b[43mfont\u001b[49m\u001b[38;5;241;43m=\u001b[39;49m\u001b[43mtransposed_font\u001b[49m\u001b[43m,\u001b[49m\u001b[43m \u001b[49m\u001b[43manchor\u001b[49m\u001b[38;5;241;43m=\u001b[39;49m\u001b[38;5;124;43m\"\u001b[39;49m\u001b[38;5;124;43mlt\u001b[39;49m\u001b[38;5;124;43m\"\u001b[39;49m\u001b[43m)\u001b[49m\n\u001b[1;32m    509\u001b[0m \u001b[38;5;66;03m# find possible places using integral image:\u001b[39;00m\n\u001b[1;32m    510\u001b[0m result \u001b[38;5;241m=\u001b[39m occupancy\u001b[38;5;241m.\u001b[39msample_position(box_size[\u001b[38;5;241m3\u001b[39m] \u001b[38;5;241m+\u001b[39m \u001b[38;5;28mself\u001b[39m\u001b[38;5;241m.\u001b[39mmargin,\n\u001b[1;32m    511\u001b[0m                                    box_size[\u001b[38;5;241m2\u001b[39m] \u001b[38;5;241m+\u001b[39m \u001b[38;5;28mself\u001b[39m\u001b[38;5;241m.\u001b[39mmargin,\n\u001b[1;32m    512\u001b[0m                                    random_state)\n",
      "File \u001b[0;32m~/tensoflow-test/env/lib/python3.10/site-packages/PIL/ImageDraw.py:671\u001b[0m, in \u001b[0;36mImageDraw.textbbox\u001b[0;34m(self, xy, text, font, anchor, spacing, align, direction, features, language, stroke_width, embedded_color)\u001b[0m\n\u001b[1;32m    669\u001b[0m     font \u001b[38;5;241m=\u001b[39m \u001b[38;5;28mself\u001b[39m\u001b[38;5;241m.\u001b[39mgetfont()\n\u001b[1;32m    670\u001b[0m \u001b[38;5;28;01mif\u001b[39;00m \u001b[38;5;129;01mnot\u001b[39;00m \u001b[38;5;28misinstance\u001b[39m(font, ImageFont\u001b[38;5;241m.\u001b[39mFreeTypeFont):\n\u001b[0;32m--> 671\u001b[0m     \u001b[38;5;28;01mraise\u001b[39;00m \u001b[38;5;167;01mValueError\u001b[39;00m(\u001b[38;5;124m\"\u001b[39m\u001b[38;5;124mOnly supported for TrueType fonts\u001b[39m\u001b[38;5;124m\"\u001b[39m)\n\u001b[1;32m    672\u001b[0m mode \u001b[38;5;241m=\u001b[39m \u001b[38;5;124m\"\u001b[39m\u001b[38;5;124mRGBA\u001b[39m\u001b[38;5;124m\"\u001b[39m \u001b[38;5;28;01mif\u001b[39;00m embedded_color \u001b[38;5;28;01melse\u001b[39;00m \u001b[38;5;28mself\u001b[39m\u001b[38;5;241m.\u001b[39mfontmode\n\u001b[1;32m    673\u001b[0m bbox \u001b[38;5;241m=\u001b[39m font\u001b[38;5;241m.\u001b[39mgetbbox(\n\u001b[1;32m    674\u001b[0m     text, mode, direction, features, language, stroke_width, anchor\n\u001b[1;32m    675\u001b[0m )\n",
      "\u001b[0;31mValueError\u001b[0m: Only supported for TrueType fonts"
     ]
    }
   ],
   "source": [
    "from wordcloud import WordCloud\n",
    "\n",
    "\n",
    "# Specify the path to a TrueType font on your system\n",
    "font_path = 'Roboto-Regular.ttf'\n",
    "\n",
    "# Create word clouds for 'intents' and 'answer' columns\n",
    "wordcloud_intents = WordCloud(width=800, height=400, background_color='white',font_path=font_path).generate(' '.join(df_exploded['question']))\n",
    "wordcloud_answers = WordCloud(width=800, height=400, background_color='white',font_path=font_path).generate(' '.join(df_exploded['answer']))\n",
    "\n",
    "# Create word cloud for 'tags' column\n",
    "wordcloud_tags = WordCloud(width=800, height=400, background_color='white',font_path=font_path).generate(' '.join(df_exploded['tags']))\n",
    "\n",
    "# Plotting\n",
    "plt.figure(figsize=(15, 6))\n",
    "\n",
    "plt.subplot(1, 3, 1)\n",
    "plt.imshow(wordcloud_intents, interpolation='bilinear')\n",
    "plt.title('Word Cloud for Intents')\n",
    "plt.axis('off')\n",
    "\n",
    "plt.subplot(1, 3, 2)\n",
    "plt.imshow(wordcloud_answers, interpolation='bilinear')\n",
    "plt.title('Word Cloud for Answers')\n",
    "plt.axis('off')\n",
    "\n",
    "plt.subplot(1, 3, 3)\n",
    "plt.imshow(wordcloud_tags, interpolation='bilinear')\n",
    "plt.title('Word Cloud for Tags')\n",
    "plt.axis('off')\n",
    "\n",
    "plt.tight_layout()\n",
    "plt.show()\n"
   ]
  },
  {
   "cell_type": "markdown",
   "id": "8e814a2a",
   "metadata": {},
   "source": [
    "# Plotting length of questions and answers"
   ]
  },
  {
   "cell_type": "code",
   "execution_count": 33,
   "id": "2d23707a",
   "metadata": {},
   "outputs": [
    {
     "data": {
      "image/png": "[encoded data removed]",
      "text/plain": [
       "<Figure size 864x432 with 2 Axes>"
      ]
     },
     "metadata": {
      "needs_background": "light"
     },
     "output_type": "display_data"
    }
   ],
   "source": [
    "# Calculate lengths of intents and answers\n",
    "df_exploded['question_length'] = df_exploded['question'].apply(len)\n",
    "df_exploded['answer_length'] = df_exploded['answer'].apply(len)\n",
    "\n",
    "# Create histograms\n",
    "plt.figure(figsize=(12, 6))\n",
    "\n",
    "plt.subplot(1, 2, 1)\n",
    "plt.hist(df_exploded['question_length'], bins=20, color='skyblue', edgecolor='black')\n",
    "plt.title('Question Length Distribution')\n",
    "plt.xlabel('Length')\n",
    "plt.ylabel('Frequency')\n",
    "\n",
    "plt.subplot(1, 2, 2)\n",
    "plt.hist(df_exploded['answer_length'], bins=20, color='lightcoral', edgecolor='black')\n",
    "plt.title('Answer Length Distribution')\n",
    "plt.xlabel('Length')\n",
    "plt.ylabel('Frequency')\n",
    "\n",
    "plt.tight_layout()\n",
    "plt.show()\n",
    "\n"
   ]
  },
  {
   "cell_type": "markdown",
   "id": "8b2403cd",
   "metadata": {},
   "source": [
    "# Data Preprocessing for feeding into model"
   ]
  },
  {
   "cell_type": "code",
   "execution_count": 34,
   "id": "8d520a19",
   "metadata": {},
   "outputs": [
    {
     "name": "stderr",
     "output_type": "stream",
     "text": [
      "[nltk_data] Downloading package wordnet to\n",
      "[nltk_data]     /Users/sandippoudel/nltk_data...\n",
      "[nltk_data]   Package wordnet is already up-to-date!\n"
     ]
    },
    {
     "data": {
      "text/plain": [
       "True"
      ]
     },
     "execution_count": 34,
     "metadata": {},
     "output_type": "execute_result"
    }
   ],
   "source": [
    "import nltk\n",
    "nltk.download('wordnet')\n"
   ]
  },
  {
   "cell_type": "code",
   "execution_count": 35,
   "id": "244912bd",
   "metadata": {},
   "outputs": [
    {
     "name": "stderr",
     "output_type": "stream",
     "text": [
      "[nltk_data] Downloading package omw-1.4 to\n",
      "[nltk_data]     /Users/sandippoudel/nltk_data...\n"
     ]
    },
    {
     "data": {
      "text/html": [
       "<div>\n",
       "<style scoped>\n",
       "    .dataframe tbody tr th:only-of-type {\n",
       "        vertical-align: middle;\n",
       "    }\n",
       "\n",
       "    .dataframe tbody tr th {\n",
       "        vertical-align: top;\n",
       "    }\n",
       "\n",
       "    .dataframe thead th {\n",
       "        text-align: right;\n",
       "    }\n",
       "</style>\n",
       "<table border=\"1\" class=\"dataframe\">\n",
       "  <thead>\n",
       "    <tr style=\"text-align: right;\">\n",
       "      <th></th>\n",
       "      <th>tags</th>\n",
       "      <th>answer</th>\n",
       "      <th>question</th>\n",
       "      <th>question_length</th>\n",
       "      <th>answer_length</th>\n",
       "    </tr>\n",
       "  </thead>\n",
       "  <tbody>\n",
       "    <tr>\n",
       "      <th>1541</th>\n",
       "      <td>raycasting,layermask,guiwindow</td>\n",
       "      <td>make multiple gui elements.</td>\n",
       "      <td>it is possible to make more than one informati...</td>\n",
       "      <td>108</td>\n",
       "      <td>27</td>\n",
       "    </tr>\n",
       "    <tr>\n",
       "      <th>10552</th>\n",
       "      <td>c#</td>\n",
       "      <td>add a script tag to your page.</td>\n",
       "      <td>how can i integrate discord rich presence into...</td>\n",
       "      <td>55</td>\n",
       "      <td>30</td>\n",
       "    </tr>\n",
       "    <tr>\n",
       "      <th>111</th>\n",
       "      <td>car,control</td>\n",
       "      <td>try lowering torque property of the car.</td>\n",
       "      <td>in order to make my car accelerate more gradua...</td>\n",
       "      <td>65</td>\n",
       "      <td>40</td>\n",
       "    </tr>\n",
       "    <tr>\n",
       "      <th>10395</th>\n",
       "      <td>mesh,procedural mesh,mesh vertices</td>\n",
       "      <td>the vertices are not perfectly aligned</td>\n",
       "      <td>is there a reason why my lighting is uneven wh...</td>\n",
       "      <td>71</td>\n",
       "      <td>38</td>\n",
       "    </tr>\n",
       "    <tr>\n",
       "      <th>4290</th>\n",
       "      <td>animation</td>\n",
       "      <td>use the [animation events](http://docs..com/do...</td>\n",
       "      <td>what do you need to do in order for unity to k...</td>\n",
       "      <td>83</td>\n",
       "      <td>162</td>\n",
       "    </tr>\n",
       "  </tbody>\n",
       "</table>\n",
       "</div>"
      ],
      "text/plain": [
       "                                     tags  \\\n",
       "1541       raycasting,layermask,guiwindow   \n",
       "10552                                  c#   \n",
       "111                           car,control   \n",
       "10395  mesh,procedural mesh,mesh vertices   \n",
       "4290                            animation   \n",
       "\n",
       "                                                  answer  \\\n",
       "1541                         make multiple gui elements.   \n",
       "10552                     add a script tag to your page.   \n",
       "111             try lowering torque property of the car.   \n",
       "10395             the vertices are not perfectly aligned   \n",
       "4290   use the [animation events](http://docs..com/do...   \n",
       "\n",
       "                                                question  question_length  \\\n",
       "1541   it is possible to make more than one informati...              108   \n",
       "10552  how can i integrate discord rich presence into...               55   \n",
       "111    in order to make my car accelerate more gradua...               65   \n",
       "10395  is there a reason why my lighting is uneven wh...               71   \n",
       "4290   what do you need to do in order for unity to k...               83   \n",
       "\n",
       "       answer_length  \n",
       "1541              27  \n",
       "10552             30  \n",
       "111               40  \n",
       "10395             38  \n",
       "4290             162  "
      ]
     },
     "execution_count": 35,
     "metadata": {},
     "output_type": "execute_result"
    }
   ],
   "source": [
    "import pandas as pd\n",
    "import re\n",
    "import nltk\n",
    "from nltk.tokenize import word_tokenize\n",
    "from nltk.stem import WordNetLemmatizer\n",
    "\n",
    "# Download WordNet resource\n",
    "nltk.download('omw-1.4')\n",
    "\n",
    "def preprocessing_pipeline(text: str) -> str:\n",
    "    text = text.lower()  # Convert to lowercase\n",
    "    text = re.sub(r'[!\"#$%&\\'()*+,-./:;<=>?@[\\\\]^_`{|}~]', ' ', text)  # Remove punctuation\n",
    "    text = re.sub(r'\\s+', ' ', text)  # Remove redundant spaces\n",
    "    return text.strip()\n",
    "\n",
    "# Apply preprocessing to 'tags' and 'question' columns\n",
    "df_exploded['tags'] = df_exploded['tags'].apply(preprocessing_pipeline)\n",
    "df_exploded['question'] = df_exploded['question'].apply(preprocessing_pipeline)\n",
    "\n",
    "# NLTK Tokenization and Lemmatization\n",
    "lemmatizer = WordNetLemmatizer()\n",
    "df_exploded['question'] = df_exploded['question'].apply(lambda text: ' '.join([lemmatizer.lemmatize(token) for token in word_tokenize(text)]))\n",
    "\n",
    "df_exploded.head()\n"
   ]
  },
  {
   "cell_type": "code",
   "execution_count": 36,
   "id": "67a1e96b",
   "metadata": {},
   "outputs": [],
   "source": [
    "import numpy as np\n",
    "from sklearn.base import TransformerMixin\n",
    "from sklearn.utils.validation import check_is_fitted"
   ]
  },
  {
   "cell_type": "code",
   "execution_count": null,
   "id": "88abe615",
   "metadata": {},
   "outputs": [
    {
     "name": "stderr",
     "output_type": "stream",
     "text": [
      "Some weights of the model checkpoint at bert-base-uncased were not used when initializing BertModel: ['cls.seq_relationship.weight', 'cls.predictions.transform.LayerNorm.bias', 'cls.predictions.transform.dense.weight', 'cls.predictions.decoder.weight', 'cls.predictions.transform.LayerNorm.weight', 'cls.predictions.bias', 'cls.predictions.transform.dense.bias', 'cls.seq_relationship.bias']\n",
      "- This IS expected if you are initializing BertModel from the checkpoint of a model trained on another task or with another architecture (e.g. initializing a BertForSequenceClassification model from a BertForPreTraining model).\n",
      "- This IS NOT expected if you are initializing BertModel from the checkpoint of a model that you expect to be exactly identical (initializing a BertForSequenceClassification model from a BertForSequenceClassification model).\n"
     ]
    }
   ],
   "source": [
    "from transformers import BertTokenizer, BertModel\n",
    "import torch\n",
    "import numpy as np\n",
    "import pandas as pd\n",
    "\n",
    "\n",
    "# Load pre-trained BERT model and tokenizer\n",
    "tokenizer = BertTokenizer.from_pretrained('bert-base-uncased')\n",
    "model = BertModel.from_pretrained('bert-base-uncased')\n",
    "\n",
    "# Preprocess text and get BERT embeddings\n",
    "def get_bert_embeddings(text):\n",
    "    tokens = tokenizer.encode(text, add_special_tokens=True)\n",
    "    with torch.no_grad():\n",
    "        inputs = torch.tensor(tokens).unsqueeze(0)\n",
    "        outputs = model(inputs)[0]\n",
    "    embeddings = outputs.mean(dim=1).numpy()\n",
    "    return embeddings\n",
    "\n",
    "\n",
    "\n",
    "# Apply BERT embeddings\n",
    "df_exploded['embeddings'] = df_exploded['question'].apply(get_bert_embeddings)\n",
    "\n",
    "# Print embeddings for preview\n",
    "print(df_exploded[['question', 'embeddings']])\n"
   ]
  },
  {
   "cell_type": "code",
   "execution_count": null,
   "id": "3774f7a6",
   "metadata": {},
   "outputs": [],
   "source": [
    " "
   ]
  }
 ],
 "metadata": {
  "kernelspec": {
   "display_name": "Python 3 (ipykernel)",
   "language": "python",
   "name": "python3"
  },
  "language_info": {
   "codemirror_mode": {
    "name": "ipython",
    "version": 3
   },
   "file_extension": ".py",
   "mimetype": "text/x-python",
   "name": "python",
   "nbconvert_exporter": "python",
   "pygments_lexer": "ipython3",
   "version": "3.10.5"
  }
 },
 "nbformat": 4,
 "nbformat_minor": 5
}
