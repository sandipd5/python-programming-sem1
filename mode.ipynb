{
 "cells": [
  {
   "cell_type": "markdown",
   "id": "a86435e4",
   "metadata": {},
   "source": [
    "## Calculating Mode "
   ]
  },
  {
   "cell_type": "code",
   "execution_count": 57,
   "id": "2df5bdae",
   "metadata": {},
   "outputs": [
    {
     "name": "stdout",
     "output_type": "stream",
     "text": [
      "[1, 2, 3, 4, 5, 6, 7, 8]\n",
      "[2, 5, 1, 1, 2, 4, 2, 1]\n",
      "mode is [2] with 5 no of occurences\n"
     ]
    }
   ],
   "source": [
    "lst = [1,2,3,2,4,5,6,6,7,8,7,2,2,6,6,5,1,2]\n",
    "occur = {}\n",
    "for i in lst:\n",
    "    if i in occur:\n",
    "        occur[i] = occur[i] + 1\n",
    "    else:\n",
    "        occur[i] = 1\n",
    "key = []\n",
    "value = []\n",
    "maxm = max(occur.values())\n",
    "mode = [k for k,v in occur.items() if v == maxm]\n",
    "\n",
    "for k,v in occur.items():\n",
    "    key.append(k)\n",
    "    value.append(v)\n",
    "    #maxm = max.va\n",
    "print(key)\n",
    "print(value)\n",
    "print(f\"mode is {mode} with {maxm} no of occurences\" )\n",
    "   # if v == maxm:\n",
    "        \n",
    "        \n",
    "        \n",
    "        \n",
    "    "
   ]
  },
  {
   "cell_type": "code",
   "execution_count": 61,
   "id": "29b1130f",
   "metadata": {},
   "outputs": [],
   "source": [
    "dict = {\"name\":\"sandip\",5:2,\"age\":28}\n",
    "if 2 in dict:\n",
    "    print(\"yes\")"
   ]
  },
  {
   "cell_type": "code",
   "execution_count": null,
   "id": "334cb86c",
   "metadata": {},
   "outputs": [],
   "source": []
  },
  {
   "cell_type": "code",
   "execution_count": null,
   "id": "a9c8ab02",
   "metadata": {},
   "outputs": [],
   "source": []
  }
 ],
 "metadata": {
  "kernelspec": {
   "display_name": "Python 3 (ipykernel)",
   "language": "python",
   "name": "python3"
  },
  "language_info": {
   "codemirror_mode": {
    "name": "ipython",
    "version": 3
   },
   "file_extension": ".py",
   "mimetype": "text/x-python",
   "name": "python",
   "nbconvert_exporter": "python",
   "pygments_lexer": "ipython3",
   "version": "3.10.5"
  }
 },
 "nbformat": 4,
 "nbformat_minor": 5
}
